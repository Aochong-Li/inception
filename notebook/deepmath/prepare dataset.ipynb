{
 "cells": [
  {
   "cell_type": "code",
   "execution_count": 46,
   "id": "7dfaffbc",
   "metadata": {},
   "outputs": [],
   "source": [
    "import pandas as pd \n",
    "import os \n",
    "\n",
    "from transformers import AutoModelForCausalLM, AutoTokenizer\n",
    "from datasets import load_dataset\n",
    "\n",
    "import seaborn as sns\n",
    "\n",
    "from datasets import load_dataset, load_from_disk\n",
    "import numpy as np\n",
    "import json"
   ]
  },
  {
   "cell_type": "markdown",
   "id": "fe3070b5",
   "metadata": {},
   "source": [
    "# Load Original DeepMath dataset"
   ]
  },
  {
   "cell_type": "code",
   "execution_count": 3,
   "id": "93d2dc3a",
   "metadata": {},
   "outputs": [],
   "source": [
    "dataset = load_dataset(\"zwhe99/DeepMath-103K\")['train']\n",
    "deepmath_df = dataset.to_pandas()"
   ]
  },
  {
   "cell_type": "code",
   "execution_count": 25,
   "id": "427ba3ff",
   "metadata": {},
   "outputs": [],
   "source": [
    "def extract_topic(row):\n",
    "    topic = row['topic']\n",
    "    subtopics = [subtopic.strip() for subtopic in topic.split('->') if subtopic]\n",
    "    return subtopics[1]"
   ]
  },
  {
   "cell_type": "code",
   "execution_count": 26,
   "id": "e4b5f3b6",
   "metadata": {
    "scrolled": true
   },
   "outputs": [],
   "source": [
    "deepmath_df['subtopic'] = deepmath_df.apply(extract_topic, axis=1)"
   ]
  },
  {
   "cell_type": "code",
   "execution_count": 31,
   "id": "be4aa30e",
   "metadata": {
    "scrolled": true
   },
   "outputs": [
    {
     "data": {
      "text/plain": [
       "{'3D Shapes',\n",
       " 'Abstract Algebra',\n",
       " 'Algebra',\n",
       " 'Algebraic Expressions',\n",
       " 'Algorithms',\n",
       " 'Angles',\n",
       " 'Applications of Derivatives',\n",
       " 'Applications of Integrals',\n",
       " 'Applied Mathematics',\n",
       " 'Area',\n",
       " 'Calculus',\n",
       " 'Category Theory',\n",
       " 'Combinations',\n",
       " 'Combinatorics',\n",
       " 'Complex Numbers',\n",
       " 'Congruences',\n",
       " 'Counting Methods',\n",
       " 'Curvature',\n",
       " 'Decimals',\n",
       " 'Derivatives',\n",
       " 'Determinants',\n",
       " 'Differential Calculus',\n",
       " 'Differential Equations',\n",
       " 'Differential Geometry',\n",
       " 'Discrete Mathematics',\n",
       " 'Divisibility',\n",
       " 'Equations and Inequalities',\n",
       " 'Exponential Functions',\n",
       " 'Factoring',\n",
       " 'Factorization',\n",
       " 'Field Theory',\n",
       " 'Fractions',\n",
       " 'Functions',\n",
       " 'Geodesics',\n",
       " 'Geometry',\n",
       " 'Graph Theory',\n",
       " 'Greatest Common Divisors (GCD)',\n",
       " 'Group Theory',\n",
       " 'Hyperbolic Geometry',\n",
       " 'Integers',\n",
       " 'Integral Calculus',\n",
       " 'Integrals',\n",
       " 'Intermediate Algebra',\n",
       " 'Least Common Multiples (LCM)',\n",
       " 'Lie Algebras',\n",
       " 'Limits',\n",
       " 'Linear Algebra',\n",
       " 'Linear Transformations',\n",
       " 'Logarithmic Functions',\n",
       " 'Logic',\n",
       " 'Manifolds',\n",
       " 'Math Word Problems',\n",
       " 'Mathematical Statistics',\n",
       " 'Matrices',\n",
       " 'Multi-variable',\n",
       " 'Non-Euclidean Geometry',\n",
       " 'Number Theory',\n",
       " 'Ordinary Differential Equations (ODEs)',\n",
       " 'Other',\n",
       " 'Partial Differential Equations (PDEs)',\n",
       " 'Perimeter',\n",
       " 'Permutations',\n",
       " 'Plane Geometry',\n",
       " 'Polygons',\n",
       " 'Polynomial Operations',\n",
       " 'Prealgebra',\n",
       " 'Precalculus',\n",
       " 'Prime Numbers',\n",
       " 'Probability',\n",
       " 'Quadratic Functions',\n",
       " 'Related Rates',\n",
       " 'Ring Theory',\n",
       " 'Simple Equations',\n",
       " 'Single-variable',\n",
       " 'Solid Geometry',\n",
       " 'Spherical Geometry',\n",
       " 'Statistics',\n",
       " 'Surface Area',\n",
       " 'Techniques of Integration',\n",
       " 'Triangulations',\n",
       " 'Trigonometric Functions',\n",
       " 'Vectors',\n",
       " 'Volume'}"
      ]
     },
     "execution_count": 31,
     "metadata": {},
     "output_type": "execute_result"
    }
   ],
   "source": [
    "set(deepmath_df['subtopic'].explode())"
   ]
  },
  {
   "cell_type": "code",
   "execution_count": null,
   "id": "de79deab",
   "metadata": {},
   "outputs": [],
   "source": [
    "topics = [\"Algebra\", \"Calculus\", \"Applied Mathematics\", \"Geometry\", \"Number Theory\", \"Discrete Mathematics\", \"Differential Equations\",\n",
    "          \"Abstract Algebra\", \"Algebraic Expressions\", \"Algorithms\", \"Category Theory\", \"Combinatorics\", \"Congruences\", \"Differential Calculus\",\n",
    "          \"Differential Geometry\", \"Field Theory\", \"Geodesics\", \"Graph Theory\", \"Group Theory\", \"Hyperbolic Geometry\", \"Integral Calculus\",\n",
    "          \"Lie Algebras\", \"Manifolds\", \"Mathematical Statistics\", \"Non-Euclidean Geometry\", \"Ring Theory\"\n",
    "         ]"
   ]
  },
  {
   "cell_type": "markdown",
   "id": "639595fe",
   "metadata": {},
   "source": [
    "Imagine you are in the International Mathematical Olympiad (IMO) this year. You are the smartest math student. You need to solve a very difficult {topic} problem. You should very hard about this problem."
   ]
  },
  {
   "cell_type": "markdown",
   "id": "933c29af",
   "metadata": {},
   "source": [
    "# Split DeepMath Dataset into train-test"
   ]
  },
  {
   "cell_type": "code",
   "execution_count": 48,
   "id": "568de597",
   "metadata": {
    "scrolled": true
   },
   "outputs": [],
   "source": [
    "dataset = load_dataset('aochongoliverli/DeepMath-103K')"
   ]
  },
  {
   "cell_type": "code",
   "execution_count": 49,
   "id": "30fde5c7",
   "metadata": {},
   "outputs": [],
   "source": [
    "train_df = dataset['train'].to_pandas()\n",
    "test_df = dataset['test'].to_pandas()"
   ]
  },
  {
   "cell_type": "code",
   "execution_count": 51,
   "id": "0fd1594f",
   "metadata": {},
   "outputs": [
    {
     "data": {
      "text/html": [
       "<div>\n",
       "<style scoped>\n",
       "    .dataframe tbody tr th:only-of-type {\n",
       "        vertical-align: middle;\n",
       "    }\n",
       "\n",
       "    .dataframe tbody tr th {\n",
       "        vertical-align: top;\n",
       "    }\n",
       "\n",
       "    .dataframe thead th {\n",
       "        text-align: right;\n",
       "    }\n",
       "</style>\n",
       "<table border=\"1\" class=\"dataframe\">\n",
       "  <thead>\n",
       "    <tr style=\"text-align: right;\">\n",
       "      <th></th>\n",
       "      <th>question</th>\n",
       "      <th>final_answer</th>\n",
       "      <th>difficulty</th>\n",
       "      <th>topic</th>\n",
       "      <th>r1_solution_1</th>\n",
       "      <th>r1_solution_2</th>\n",
       "      <th>r1_solution_3</th>\n",
       "      <th>subtopic</th>\n",
       "    </tr>\n",
       "  </thead>\n",
       "  <tbody>\n",
       "    <tr>\n",
       "      <th>0</th>\n",
       "      <td>Calculate the value of $x$ in the given circle...</td>\n",
       "      <td>\\sqrt{2}</td>\n",
       "      <td>1.0</td>\n",
       "      <td>Mathematics -&gt; Geometry -&gt; Plane Geometry -&gt; O...</td>\n",
       "      <td>Alright, let's see. I need to find the value o...</td>\n",
       "      <td>Okay, so I need to find the value of x in the ...</td>\n",
       "      <td>Okay, so I have this geometry problem here whe...</td>\n",
       "      <td>5</td>\n",
       "    </tr>\n",
       "    <tr>\n",
       "      <th>1</th>\n",
       "      <td>Are all elements in the sequence 10, 44, 136, ...</td>\n",
       "      <td>Yes</td>\n",
       "      <td>1.0</td>\n",
       "      <td>Mathematics -&gt; Algebra -&gt; Prealgebra -&gt; Integers</td>\n",
       "      <td>Okay, so I need to check if all the numbers in...</td>\n",
       "      <td>Okay, so I need to check if all the numbers in...</td>\n",
       "      <td>Okay, so I need to check if all the numbers in...</td>\n",
       "      <td>0</td>\n",
       "    </tr>\n",
       "    <tr>\n",
       "      <th>2</th>\n",
       "      <td>Given real numbers \\(a, b, c, d, u_1, u_2\\), d...</td>\n",
       "      <td>\\dfrac{b}{d}</td>\n",
       "      <td>1.0</td>\n",
       "      <td>Mathematics -&gt; Algebra -&gt; Prealgebra -&gt; Simple...</td>\n",
       "      <td>Alright, let me try to figure out this problem...</td>\n",
       "      <td>Okay, so I have this problem here that says: G...</td>\n",
       "      <td>Okay, so I need to figure out the value of \\(\\...</td>\n",
       "      <td>0</td>\n",
       "    </tr>\n",
       "    <tr>\n",
       "      <th>3</th>\n",
       "      <td>Find the equation of the line passing through ...</td>\n",
       "      <td>y = x + 1</td>\n",
       "      <td>1.0</td>\n",
       "      <td>Mathematics -&gt; Algebra -&gt; Prealgebra -&gt; Simple...</td>\n",
       "      <td>Okay, so I need to find the equation of the li...</td>\n",
       "      <td>Okay, so I need to find the equation of the li...</td>\n",
       "      <td>Okay, so I need to find the equation of the li...</td>\n",
       "      <td>0</td>\n",
       "    </tr>\n",
       "    <tr>\n",
       "      <th>4</th>\n",
       "      <td>What is the Shannon entropy of a riskless rand...</td>\n",
       "      <td>0</td>\n",
       "      <td>1.0</td>\n",
       "      <td>Mathematics -&gt; Applied Mathematics -&gt; Statisti...</td>\n",
       "      <td>Okay, so I need to figure out the Shannon entr...</td>\n",
       "      <td>Okay, so I need to figure out the Shannon entr...</td>\n",
       "      <td>Okay, so I need to figure out the Shannon entr...</td>\n",
       "      <td>1</td>\n",
       "    </tr>\n",
       "    <tr>\n",
       "      <th>...</th>\n",
       "      <td>...</td>\n",
       "      <td>...</td>\n",
       "      <td>...</td>\n",
       "      <td>...</td>\n",
       "      <td>...</td>\n",
       "      <td>...</td>\n",
       "      <td>...</td>\n",
       "      <td>...</td>\n",
       "    </tr>\n",
       "    <tr>\n",
       "      <th>39027</th>\n",
       "      <td>For each positive integer $n$, define a functi...</td>\n",
       "      <td>\\dfrac{2}{\\pi}</td>\n",
       "      <td>5.5</td>\n",
       "      <td>Mathematics -&gt; Calculus -&gt; Integral Calculus -...</td>\n",
       "      <td>Alright, let's tackle this problem step by ste...</td>\n",
       "      <td>Okay, so I need to find the limit as n approac...</td>\n",
       "      <td>Okay, so I need to find the limit as n approac...</td>\n",
       "      <td>2</td>\n",
       "    </tr>\n",
       "    <tr>\n",
       "      <th>39028</th>\n",
       "      <td>Calculate the limit: $$ \\lim_{x \\to \\infty} \\f...</td>\n",
       "      <td>16</td>\n",
       "      <td>5.5</td>\n",
       "      <td>Mathematics -&gt; Precalculus -&gt; Limits</td>\n",
       "      <td>Okay, let me try to work through this limit pr...</td>\n",
       "      <td>Okay, so I need to calculate this limit: \\n\\n$...</td>\n",
       "      <td>Okay, so I need to calculate this limit: \\n\\n$...</td>\n",
       "      <td>8</td>\n",
       "    </tr>\n",
       "    <tr>\n",
       "      <th>39029</th>\n",
       "      <td>Find the splitting field \\(E\\) of the polynomi...</td>\n",
       "      <td>2</td>\n",
       "      <td>5.5</td>\n",
       "      <td>Mathematics -&gt; Algebra -&gt; Abstract Algebra -&gt; ...</td>\n",
       "      <td>Alright, let's tackle this problem: find the s...</td>\n",
       "      <td>Okay, so I need to find the splitting field E ...</td>\n",
       "      <td>Okay, so I need to find the splitting field E ...</td>\n",
       "      <td>0</td>\n",
       "    </tr>\n",
       "    <tr>\n",
       "      <th>39030</th>\n",
       "      <td>Find the remainder when \\( P = 2008^{2007} - 2...</td>\n",
       "      <td>4032066</td>\n",
       "      <td>5.5</td>\n",
       "      <td>Mathematics -&gt; Algebra -&gt; Algebra -&gt; Polynomia...</td>\n",
       "      <td>Okay, so I need to find the remainder when P =...</td>\n",
       "      <td>Okay, so I have this problem here: Find the re...</td>\n",
       "      <td>Okay, so I need to find the remainder when P =...</td>\n",
       "      <td>0</td>\n",
       "    </tr>\n",
       "    <tr>\n",
       "      <th>39031</th>\n",
       "      <td>Determine the number of nonnegative integer so...</td>\n",
       "      <td>p_{\\leq n}(r)</td>\n",
       "      <td>5.5</td>\n",
       "      <td>Mathematics -&gt; Discrete Mathematics -&gt; Combina...</td>\n",
       "      <td>Okay, so I need to figure out how many nonnega...</td>\n",
       "      <td>Alright, so I need to figure out the number of...</td>\n",
       "      <td>Okay, so I need to find the number of nonnegat...</td>\n",
       "      <td>4</td>\n",
       "    </tr>\n",
       "  </tbody>\n",
       "</table>\n",
       "<p>39032 rows × 8 columns</p>\n",
       "</div>"
      ],
      "text/plain": [
       "                                                question    final_answer  \\\n",
       "0      Calculate the value of $x$ in the given circle...        \\sqrt{2}   \n",
       "1      Are all elements in the sequence 10, 44, 136, ...             Yes   \n",
       "2      Given real numbers \\(a, b, c, d, u_1, u_2\\), d...    \\dfrac{b}{d}   \n",
       "3      Find the equation of the line passing through ...       y = x + 1   \n",
       "4      What is the Shannon entropy of a riskless rand...               0   \n",
       "...                                                  ...             ...   \n",
       "39027  For each positive integer $n$, define a functi...  \\dfrac{2}{\\pi}   \n",
       "39028  Calculate the limit: $$ \\lim_{x \\to \\infty} \\f...              16   \n",
       "39029  Find the splitting field \\(E\\) of the polynomi...               2   \n",
       "39030  Find the remainder when \\( P = 2008^{2007} - 2...         4032066   \n",
       "39031  Determine the number of nonnegative integer so...   p_{\\leq n}(r)   \n",
       "\n",
       "       difficulty                                              topic  \\\n",
       "0             1.0  Mathematics -> Geometry -> Plane Geometry -> O...   \n",
       "1             1.0   Mathematics -> Algebra -> Prealgebra -> Integers   \n",
       "2             1.0  Mathematics -> Algebra -> Prealgebra -> Simple...   \n",
       "3             1.0  Mathematics -> Algebra -> Prealgebra -> Simple...   \n",
       "4             1.0  Mathematics -> Applied Mathematics -> Statisti...   \n",
       "...           ...                                                ...   \n",
       "39027         5.5  Mathematics -> Calculus -> Integral Calculus -...   \n",
       "39028         5.5               Mathematics -> Precalculus -> Limits   \n",
       "39029         5.5  Mathematics -> Algebra -> Abstract Algebra -> ...   \n",
       "39030         5.5  Mathematics -> Algebra -> Algebra -> Polynomia...   \n",
       "39031         5.5  Mathematics -> Discrete Mathematics -> Combina...   \n",
       "\n",
       "                                           r1_solution_1  \\\n",
       "0      Alright, let's see. I need to find the value o...   \n",
       "1      Okay, so I need to check if all the numbers in...   \n",
       "2      Alright, let me try to figure out this problem...   \n",
       "3      Okay, so I need to find the equation of the li...   \n",
       "4      Okay, so I need to figure out the Shannon entr...   \n",
       "...                                                  ...   \n",
       "39027  Alright, let's tackle this problem step by ste...   \n",
       "39028  Okay, let me try to work through this limit pr...   \n",
       "39029  Alright, let's tackle this problem: find the s...   \n",
       "39030  Okay, so I need to find the remainder when P =...   \n",
       "39031  Okay, so I need to figure out how many nonnega...   \n",
       "\n",
       "                                           r1_solution_2  \\\n",
       "0      Okay, so I need to find the value of x in the ...   \n",
       "1      Okay, so I need to check if all the numbers in...   \n",
       "2      Okay, so I have this problem here that says: G...   \n",
       "3      Okay, so I need to find the equation of the li...   \n",
       "4      Okay, so I need to figure out the Shannon entr...   \n",
       "...                                                  ...   \n",
       "39027  Okay, so I need to find the limit as n approac...   \n",
       "39028  Okay, so I need to calculate this limit: \\n\\n$...   \n",
       "39029  Okay, so I need to find the splitting field E ...   \n",
       "39030  Okay, so I have this problem here: Find the re...   \n",
       "39031  Alright, so I need to figure out the number of...   \n",
       "\n",
       "                                           r1_solution_3  subtopic  \n",
       "0      Okay, so I have this geometry problem here whe...         5  \n",
       "1      Okay, so I need to check if all the numbers in...         0  \n",
       "2      Okay, so I need to figure out the value of \\(\\...         0  \n",
       "3      Okay, so I need to find the equation of the li...         0  \n",
       "4      Okay, so I need to figure out the Shannon entr...         1  \n",
       "...                                                  ...       ...  \n",
       "39027  Okay, so I need to find the limit as n approac...         2  \n",
       "39028  Okay, so I need to calculate this limit: \\n\\n$...         8  \n",
       "39029  Okay, so I need to find the splitting field E ...         0  \n",
       "39030  Okay, so I need to find the remainder when P =...         0  \n",
       "39031  Okay, so I need to find the number of nonnegat...         4  \n",
       "\n",
       "[39032 rows x 8 columns]"
      ]
     },
     "execution_count": 51,
     "metadata": {},
     "output_type": "execute_result"
    }
   ],
   "source": [
    "train_df[train_df['difficulty']<6.0]"
   ]
  },
  {
   "cell_type": "code",
   "execution_count": 52,
   "id": "c67eb56c",
   "metadata": {},
   "outputs": [
    {
     "data": {
      "text/plain": [
       "117"
      ]
     },
     "execution_count": 52,
     "metadata": {},
     "output_type": "execute_result"
    }
   ],
   "source": [
    "39 * 3"
   ]
  },
  {
   "cell_type": "code",
   "execution_count": 32,
   "id": "c194eb7f",
   "metadata": {
    "scrolled": true
   },
   "outputs": [],
   "source": [
    "level5 = train_df[train_df['difficulty'].between(5.0,5.5)]"
   ]
  },
  {
   "cell_type": "code",
   "execution_count": 35,
   "id": "2c66657e",
   "metadata": {},
   "outputs": [],
   "source": [
    "tokenizer = AutoTokenizer.from_pretrained('aochongoliverli/Qwen2.5-1.5B-DeepMath-level1-4-14k-sft-stage0-1epoch')"
   ]
  },
  {
   "cell_type": "code",
   "execution_count": 36,
   "id": "408dd2cf",
   "metadata": {},
   "outputs": [
    {
     "name": "stderr",
     "output_type": "stream",
     "text": [
      "/tmp/ipykernel_3493705/1260243834.py:1: SettingWithCopyWarning: \n",
      "A value is trying to be set on a copy of a slice from a DataFrame.\n",
      "Try using .loc[row_indexer,col_indexer] = value instead\n",
      "\n",
      "See the caveats in the documentation: https://pandas.pydata.org/pandas-docs/stable/user_guide/indexing.html#returning-a-view-versus-a-copy\n",
      "  level5['token_counts'] = level5['question'].apply(lambda x: len(tokenizer.encode(x)))\n"
     ]
    }
   ],
   "source": [
    "level5['token_counts'] = level5['question'].apply(lambda x: len(tokenizer.encode(x)))"
   ]
  },
  {
   "cell_type": "code",
   "execution_count": 39,
   "id": "a4d4a203",
   "metadata": {},
   "outputs": [
    {
     "data": {
      "text/plain": [
       "<Axes: xlabel='token_counts', ylabel='Count'>"
      ]
     },
     "execution_count": 39,
     "metadata": {},
     "output_type": "execute_result"
    },
    {
     "data": {
      "image/png": "[encoded data removed]",
      "text/plain": [
       "<Figure size 640x480 with 1 Axes>"
      ]
     },
     "metadata": {},
     "output_type": "display_data"
    }
   ],
   "source": [
    "sns.histplot(level5['token_counts'])"
   ]
  },
  {
   "cell_type": "code",
   "execution_count": null,
   "id": "ff61723b",
   "metadata": {},
   "outputs": [],
   "source": []
  },
  {
   "cell_type": "markdown",
   "id": "db55b871",
   "metadata": {},
   "source": [
    "# Check train data"
   ]
  },
  {
   "cell_type": "code",
   "execution_count": 54,
   "id": "10a02830",
   "metadata": {},
   "outputs": [
    {
     "name": "stdout",
     "output_type": "stream",
     "text": [
      "/mnt/home/al2644/research/projects/rlvr\n"
     ]
    }
   ],
   "source": [
    "cd /mnt/home/al2644/research/projects/rlvr"
   ]
  },
  {
   "cell_type": "code",
   "execution_count": 66,
   "id": "79e93145",
   "metadata": {
    "scrolled": true
   },
   "outputs": [],
   "source": [
    "train_dataset = pd.read_parquet('data/train/deepmath_level3-4/train.parquet')\n",
    "test_dataset = pd.read_parquet('data/test/deepmath_level6-8/test.parquet')"
   ]
  },
  {
   "cell_type": "code",
   "execution_count": 67,
   "id": "a0975b49",
   "metadata": {},
   "outputs": [
    {
     "data": {
      "text/html": [
       "<div>\n",
       "<style scoped>\n",
       "    .dataframe tbody tr th:only-of-type {\n",
       "        vertical-align: middle;\n",
       "    }\n",
       "\n",
       "    .dataframe tbody tr th {\n",
       "        vertical-align: top;\n",
       "    }\n",
       "\n",
       "    .dataframe thead th {\n",
       "        text-align: right;\n",
       "    }\n",
       "</style>\n",
       "<table border=\"1\" class=\"dataframe\">\n",
       "  <thead>\n",
       "    <tr style=\"text-align: right;\">\n",
       "      <th></th>\n",
       "      <th>data_source</th>\n",
       "      <th>prompt</th>\n",
       "      <th>ability</th>\n",
       "      <th>reward_model</th>\n",
       "      <th>extra_info</th>\n",
       "    </tr>\n",
       "  </thead>\n",
       "  <tbody>\n",
       "    <tr>\n",
       "      <th>0</th>\n",
       "      <td>deepmath-level6.0</td>\n",
       "      <td>[{'content': 'Find the coefficient of \\(x^{15}...</td>\n",
       "      <td>math</td>\n",
       "      <td>{'ground_truth': '4940', 'style': 'rule'}</td>\n",
       "      <td>{'difficulty': '6.0', 'index': 95, 'split': 't...</td>\n",
       "    </tr>\n",
       "    <tr>\n",
       "      <th>1</th>\n",
       "      <td>deepmath-level6.0</td>\n",
       "      <td>[{'content': 'Evaluate the limit:\n",
       "\\[ \\lim_{n\\t...</td>\n",
       "      <td>math</td>\n",
       "      <td>{'ground_truth': '\\dfrac{k}{12}', 'style': 'ru...</td>\n",
       "      <td>{'difficulty': '6.0', 'index': 15, 'split': 't...</td>\n",
       "    </tr>\n",
       "    <tr>\n",
       "      <th>2</th>\n",
       "      <td>deepmath-level6.0</td>\n",
       "      <td>[{'content': 'Calculate the limit: \\(\\lim_{x\\t...</td>\n",
       "      <td>math</td>\n",
       "      <td>{'ground_truth': '0', 'style': 'rule'}</td>\n",
       "      <td>{'difficulty': '6.0', 'index': 30, 'split': 't...</td>\n",
       "    </tr>\n",
       "    <tr>\n",
       "      <th>3</th>\n",
       "      <td>deepmath-level6.0</td>\n",
       "      <td>[{'content': 'Evaluate the contour integral \\(...</td>\n",
       "      <td>math</td>\n",
       "      <td>{'ground_truth': '0', 'style': 'rule'}</td>\n",
       "      <td>{'difficulty': '6.0', 'index': 158, 'split': '...</td>\n",
       "    </tr>\n",
       "    <tr>\n",
       "      <th>4</th>\n",
       "      <td>deepmath-level6.0</td>\n",
       "      <td>[{'content': 'Determine the values of $a$ for ...</td>\n",
       "      <td>math</td>\n",
       "      <td>{'ground_truth': '(-1, 0)', 'style': 'rule'}</td>\n",
       "      <td>{'difficulty': '6.0', 'index': 128, 'split': '...</td>\n",
       "    </tr>\n",
       "    <tr>\n",
       "      <th>...</th>\n",
       "      <td>...</td>\n",
       "      <td>...</td>\n",
       "      <td>...</td>\n",
       "      <td>...</td>\n",
       "      <td>...</td>\n",
       "    </tr>\n",
       "    <tr>\n",
       "      <th>295</th>\n",
       "      <td>deepmath-level8.0</td>\n",
       "      <td>[{'content': 'Find the most general entire fun...</td>\n",
       "      <td>math</td>\n",
       "      <td>{'ground_truth': 'f(z) = az + b', 'style': 'ru...</td>\n",
       "      <td>{'difficulty': '8.0', 'index': 594, 'split': '...</td>\n",
       "    </tr>\n",
       "    <tr>\n",
       "      <th>296</th>\n",
       "      <td>deepmath-level8.0</td>\n",
       "      <td>[{'content': 'Let $L$ be the linear subspace o...</td>\n",
       "      <td>math</td>\n",
       "      <td>{'ground_truth': 'f(x) = x(0)', 'style': 'rule'}</td>\n",
       "      <td>{'difficulty': '8.0', 'index': 559, 'split': '...</td>\n",
       "    </tr>\n",
       "    <tr>\n",
       "      <th>297</th>\n",
       "      <td>deepmath-level8.0</td>\n",
       "      <td>[{'content': 'Let \\( f:[-1,1] \\to \\mathbb{R} \\...</td>\n",
       "      <td>math</td>\n",
       "      <td>{'ground_truth': '\\dfrac{\\pi}{2}', 'style': 'r...</td>\n",
       "      <td>{'difficulty': '8.0', 'index': 406, 'split': '...</td>\n",
       "    </tr>\n",
       "    <tr>\n",
       "      <th>298</th>\n",
       "      <td>deepmath-level8.0</td>\n",
       "      <td>[{'content': 'Consider the function $u(x)$, wh...</td>\n",
       "      <td>math</td>\n",
       "      <td>{'ground_truth': '0', 'style': 'rule'}</td>\n",
       "      <td>{'difficulty': '8.0', 'index': 427, 'split': '...</td>\n",
       "    </tr>\n",
       "    <tr>\n",
       "      <th>299</th>\n",
       "      <td>deepmath-level8.0</td>\n",
       "      <td>[{'content': 'Let \\(Q\\) be a set of permutatio...</td>\n",
       "      <td>math</td>\n",
       "      <td>{'ground_truth': '100', 'style': 'rule'}</td>\n",
       "      <td>{'difficulty': '8.0', 'index': 520, 'split': '...</td>\n",
       "    </tr>\n",
       "  </tbody>\n",
       "</table>\n",
       "<p>300 rows × 5 columns</p>\n",
       "</div>"
      ],
      "text/plain": [
       "           data_source                                             prompt  \\\n",
       "0    deepmath-level6.0  [{'content': 'Find the coefficient of \\(x^{15}...   \n",
       "1    deepmath-level6.0  [{'content': 'Evaluate the limit:\n",
       "\\[ \\lim_{n\\t...   \n",
       "2    deepmath-level6.0  [{'content': 'Calculate the limit: \\(\\lim_{x\\t...   \n",
       "3    deepmath-level6.0  [{'content': 'Evaluate the contour integral \\(...   \n",
       "4    deepmath-level6.0  [{'content': 'Determine the values of $a$ for ...   \n",
       "..                 ...                                                ...   \n",
       "295  deepmath-level8.0  [{'content': 'Find the most general entire fun...   \n",
       "296  deepmath-level8.0  [{'content': 'Let $L$ be the linear subspace o...   \n",
       "297  deepmath-level8.0  [{'content': 'Let \\( f:[-1,1] \\to \\mathbb{R} \\...   \n",
       "298  deepmath-level8.0  [{'content': 'Consider the function $u(x)$, wh...   \n",
       "299  deepmath-level8.0  [{'content': 'Let \\(Q\\) be a set of permutatio...   \n",
       "\n",
       "    ability                                       reward_model  \\\n",
       "0      math          {'ground_truth': '4940', 'style': 'rule'}   \n",
       "1      math  {'ground_truth': '\\dfrac{k}{12}', 'style': 'ru...   \n",
       "2      math             {'ground_truth': '0', 'style': 'rule'}   \n",
       "3      math             {'ground_truth': '0', 'style': 'rule'}   \n",
       "4      math       {'ground_truth': '(-1, 0)', 'style': 'rule'}   \n",
       "..      ...                                                ...   \n",
       "295    math  {'ground_truth': 'f(z) = az + b', 'style': 'ru...   \n",
       "296    math   {'ground_truth': 'f(x) = x(0)', 'style': 'rule'}   \n",
       "297    math  {'ground_truth': '\\dfrac{\\pi}{2}', 'style': 'r...   \n",
       "298    math             {'ground_truth': '0', 'style': 'rule'}   \n",
       "299    math           {'ground_truth': '100', 'style': 'rule'}   \n",
       "\n",
       "                                            extra_info  \n",
       "0    {'difficulty': '6.0', 'index': 95, 'split': 't...  \n",
       "1    {'difficulty': '6.0', 'index': 15, 'split': 't...  \n",
       "2    {'difficulty': '6.0', 'index': 30, 'split': 't...  \n",
       "3    {'difficulty': '6.0', 'index': 158, 'split': '...  \n",
       "4    {'difficulty': '6.0', 'index': 128, 'split': '...  \n",
       "..                                                 ...  \n",
       "295  {'difficulty': '8.0', 'index': 594, 'split': '...  \n",
       "296  {'difficulty': '8.0', 'index': 559, 'split': '...  \n",
       "297  {'difficulty': '8.0', 'index': 406, 'split': '...  \n",
       "298  {'difficulty': '8.0', 'index': 427, 'split': '...  \n",
       "299  {'difficulty': '8.0', 'index': 520, 'split': '...  \n",
       "\n",
       "[300 rows x 5 columns]"
      ]
     },
     "execution_count": 67,
     "metadata": {},
     "output_type": "execute_result"
    }
   ],
   "source": [
    "test_dataset"
   ]
  }
 ],
 "metadata": {
  "kernelspec": {
   "display_name": "Python 3 (ipykernel)",
   "language": "python",
   "name": "python3"
  },
  "language_info": {
   "codemirror_mode": {
    "name": "ipython",
    "version": 3
   },
   "file_extension": ".py",
   "mimetype": "text/x-python",
   "name": "python",
   "nbconvert_exporter": "python",
   "pygments_lexer": "ipython3",
   "version": "3.10.18"
  }
 },
 "nbformat": 4,
 "nbformat_minor": 5
}
