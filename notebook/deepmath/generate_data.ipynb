{
 "cells": [
  {
   "cell_type": "code",
   "execution_count": 239,
   "id": "b43268f6",
   "metadata": {},
   "outputs": [],
   "source": [
    "import pandas as pd \n",
    "import os \n",
    "\n",
    "from transformers import AutoModelForCausalLM, AutoTokenizer\n",
    "from datasets import load_dataset\n",
    "\n",
    "import seaborn as sns\n",
    "\n",
    "import datasets\n",
    "from datasets import load_dataset, load_from_disk\n",
    "import numpy as np\n",
    "import json"
   ]
  },
  {
   "cell_type": "code",
   "execution_count": 200,
   "id": "56a7421e",
   "metadata": {
    "scrolled": false
   },
   "outputs": [
    {
     "data": {
      "text/plain": [
       "'/mnt/home/al2644/research/projects/perturb-r/notebook/deepmath'"
      ]
     },
     "execution_count": 200,
     "metadata": {},
     "output_type": "execute_result"
    }
   ],
   "source": [
    "pwd"
   ]
  },
  {
   "cell_type": "code",
   "execution_count": 203,
   "id": "2855a0a9",
   "metadata": {},
   "outputs": [
    {
     "name": "stdout",
     "output_type": "stream",
     "text": [
      "/mnt/home/al2644/research/projects\n"
     ]
    }
   ],
   "source": [
    "cd /mnt/home/al2644/research/projects/"
   ]
  },
  {
   "cell_type": "markdown",
   "id": "27e492ae",
   "metadata": {},
   "source": [
    "# Check generated sequences"
   ]
  },
  {
   "cell_type": "code",
   "execution_count": 246,
   "id": "509446ab",
   "metadata": {},
   "outputs": [],
   "source": [
    "train_df = pd.read_parquet(\"rlvr/data/train/deepmath_level3-4-stage2-post-step285-reward-lt-1.0/train.parquet\")"
   ]
  },
  {
   "cell_type": "code",
   "execution_count": 236,
   "id": "ba9d15d0",
   "metadata": {
    "scrolled": true
   },
   "outputs": [],
   "source": [
    "ez_train_df = train_df.apply(lambda x: x['reward_model']['ground_truth'].lower() in ['yes', 'no', 'true', 'false', 'a', 'b', 'c', 'd', 'e'], axis = 1)\n",
    "ez_train_df = train_df[ez_train_df]\n",
    "               "
   ]
  },
  {
   "cell_type": "code",
   "execution_count": 238,
   "id": "b0d2bf2e",
   "metadata": {},
   "outputs": [
    {
     "data": {
      "text/html": [
       "<div>\n",
       "<style scoped>\n",
       "    .dataframe tbody tr th:only-of-type {\n",
       "        vertical-align: middle;\n",
       "    }\n",
       "\n",
       "    .dataframe tbody tr th {\n",
       "        vertical-align: top;\n",
       "    }\n",
       "\n",
       "    .dataframe thead th {\n",
       "        text-align: right;\n",
       "    }\n",
       "</style>\n",
       "<table border=\"1\" class=\"dataframe\">\n",
       "  <thead>\n",
       "    <tr style=\"text-align: right;\">\n",
       "      <th></th>\n",
       "      <th>data_source</th>\n",
       "      <th>prompt</th>\n",
       "      <th>ability</th>\n",
       "      <th>reward_model</th>\n",
       "      <th>extra_info</th>\n",
       "      <th>zero_success</th>\n",
       "    </tr>\n",
       "  </thead>\n",
       "  <tbody>\n",
       "    <tr>\n",
       "      <th>14</th>\n",
       "      <td>deepmath</td>\n",
       "      <td>[{'content': 'In Category Theory, can an objec...</td>\n",
       "      <td>math</td>\n",
       "      <td>{'ground_truth': 'Yes', 'style': 'rule'}</td>\n",
       "      <td>{'difficulty': 3.0, 'index': 14, 'split': 'tra...</td>\n",
       "      <td>False</td>\n",
       "    </tr>\n",
       "    <tr>\n",
       "      <th>33</th>\n",
       "      <td>deepmath</td>\n",
       "      <td>[{'content': 'Let $(u_{n})_{n},(v_{n})_{n}$ be...</td>\n",
       "      <td>math</td>\n",
       "      <td>{'ground_truth': 'True', 'style': 'rule'}</td>\n",
       "      <td>{'difficulty': 3.0, 'index': 33, 'split': 'tra...</td>\n",
       "      <td>False</td>\n",
       "    </tr>\n",
       "    <tr>\n",
       "      <th>181</th>\n",
       "      <td>deepmath</td>\n",
       "      <td>[{'content': 'If we write the 10 numerals in a...</td>\n",
       "      <td>math</td>\n",
       "      <td>{'ground_truth': 'Yes', 'style': 'rule'}</td>\n",
       "      <td>{'difficulty': 3.0, 'index': 181, 'split': 'tr...</td>\n",
       "      <td>False</td>\n",
       "    </tr>\n",
       "    <tr>\n",
       "      <th>217</th>\n",
       "      <td>deepmath</td>\n",
       "      <td>[{'content': 'Determine if the even prime numb...</td>\n",
       "      <td>math</td>\n",
       "      <td>{'ground_truth': 'No', 'style': 'rule'}</td>\n",
       "      <td>{'difficulty': 3.0, 'index': 217, 'split': 'tr...</td>\n",
       "      <td>False</td>\n",
       "    </tr>\n",
       "    <tr>\n",
       "      <th>253</th>\n",
       "      <td>deepmath</td>\n",
       "      <td>[{'content': 'In neutral geometry, if opposite...</td>\n",
       "      <td>math</td>\n",
       "      <td>{'ground_truth': 'B', 'style': 'rule'}</td>\n",
       "      <td>{'difficulty': 3.0, 'index': 253, 'split': 'tr...</td>\n",
       "      <td>False</td>\n",
       "    </tr>\n",
       "    <tr>\n",
       "      <th>...</th>\n",
       "      <td>...</td>\n",
       "      <td>...</td>\n",
       "      <td>...</td>\n",
       "      <td>...</td>\n",
       "      <td>...</td>\n",
       "      <td>...</td>\n",
       "    </tr>\n",
       "    <tr>\n",
       "      <th>12176</th>\n",
       "      <td>deepmath</td>\n",
       "      <td>[{'content': 'In a non-cyclic group of 9 eleme...</td>\n",
       "      <td>math</td>\n",
       "      <td>{'ground_truth': 'Yes', 'style': 'rule'}</td>\n",
       "      <td>{'difficulty': 4.5, 'index': 12176, 'split': '...</td>\n",
       "      <td>False</td>\n",
       "    </tr>\n",
       "    <tr>\n",
       "      <th>12179</th>\n",
       "      <td>deepmath</td>\n",
       "      <td>[{'content': 'Determine if the following manip...</td>\n",
       "      <td>math</td>\n",
       "      <td>{'ground_truth': 'Yes', 'style': 'rule'}</td>\n",
       "      <td>{'difficulty': 4.5, 'index': 12179, 'split': '...</td>\n",
       "      <td>False</td>\n",
       "    </tr>\n",
       "    <tr>\n",
       "      <th>12182</th>\n",
       "      <td>deepmath</td>\n",
       "      <td>[{'content': 'Given that $E[X]=\\theta(n^{1.5})...</td>\n",
       "      <td>math</td>\n",
       "      <td>{'ground_truth': 'D', 'style': 'rule'}</td>\n",
       "      <td>{'difficulty': 4.5, 'index': 12182, 'split': '...</td>\n",
       "      <td>False</td>\n",
       "    </tr>\n",
       "    <tr>\n",
       "      <th>12185</th>\n",
       "      <td>deepmath</td>\n",
       "      <td>[{'content': 'In triangle \\(ABC\\), \\(BR = RC\\)...</td>\n",
       "      <td>math</td>\n",
       "      <td>{'ground_truth': 'E', 'style': 'rule'}</td>\n",
       "      <td>{'difficulty': 4.5, 'index': 12185, 'split': '...</td>\n",
       "      <td>False</td>\n",
       "    </tr>\n",
       "    <tr>\n",
       "      <th>12188</th>\n",
       "      <td>deepmath</td>\n",
       "      <td>[{'content': 'Determine whether the following ...</td>\n",
       "      <td>math</td>\n",
       "      <td>{'ground_truth': 'True', 'style': 'rule'}</td>\n",
       "      <td>{'difficulty': 4.5, 'index': 12188, 'split': '...</td>\n",
       "      <td>False</td>\n",
       "    </tr>\n",
       "  </tbody>\n",
       "</table>\n",
       "<p>873 rows × 6 columns</p>\n",
       "</div>"
      ],
      "text/plain": [
       "      data_source                                             prompt ability  \\\n",
       "14       deepmath  [{'content': 'In Category Theory, can an objec...    math   \n",
       "33       deepmath  [{'content': 'Let $(u_{n})_{n},(v_{n})_{n}$ be...    math   \n",
       "181      deepmath  [{'content': 'If we write the 10 numerals in a...    math   \n",
       "217      deepmath  [{'content': 'Determine if the even prime numb...    math   \n",
       "253      deepmath  [{'content': 'In neutral geometry, if opposite...    math   \n",
       "...           ...                                                ...     ...   \n",
       "12176    deepmath  [{'content': 'In a non-cyclic group of 9 eleme...    math   \n",
       "12179    deepmath  [{'content': 'Determine if the following manip...    math   \n",
       "12182    deepmath  [{'content': 'Given that $E[X]=\\theta(n^{1.5})...    math   \n",
       "12185    deepmath  [{'content': 'In triangle \\(ABC\\), \\(BR = RC\\)...    math   \n",
       "12188    deepmath  [{'content': 'Determine whether the following ...    math   \n",
       "\n",
       "                                    reward_model  \\\n",
       "14      {'ground_truth': 'Yes', 'style': 'rule'}   \n",
       "33     {'ground_truth': 'True', 'style': 'rule'}   \n",
       "181     {'ground_truth': 'Yes', 'style': 'rule'}   \n",
       "217      {'ground_truth': 'No', 'style': 'rule'}   \n",
       "253       {'ground_truth': 'B', 'style': 'rule'}   \n",
       "...                                          ...   \n",
       "12176   {'ground_truth': 'Yes', 'style': 'rule'}   \n",
       "12179   {'ground_truth': 'Yes', 'style': 'rule'}   \n",
       "12182     {'ground_truth': 'D', 'style': 'rule'}   \n",
       "12185     {'ground_truth': 'E', 'style': 'rule'}   \n",
       "12188  {'ground_truth': 'True', 'style': 'rule'}   \n",
       "\n",
       "                                              extra_info  zero_success  \n",
       "14     {'difficulty': 3.0, 'index': 14, 'split': 'tra...         False  \n",
       "33     {'difficulty': 3.0, 'index': 33, 'split': 'tra...         False  \n",
       "181    {'difficulty': 3.0, 'index': 181, 'split': 'tr...         False  \n",
       "217    {'difficulty': 3.0, 'index': 217, 'split': 'tr...         False  \n",
       "253    {'difficulty': 3.0, 'index': 253, 'split': 'tr...         False  \n",
       "...                                                  ...           ...  \n",
       "12176  {'difficulty': 4.5, 'index': 12176, 'split': '...         False  \n",
       "12179  {'difficulty': 4.5, 'index': 12179, 'split': '...         False  \n",
       "12182  {'difficulty': 4.5, 'index': 12182, 'split': '...         False  \n",
       "12185  {'difficulty': 4.5, 'index': 12185, 'split': '...         False  \n",
       "12188  {'difficulty': 4.5, 'index': 12188, 'split': '...         False  \n",
       "\n",
       "[873 rows x 6 columns]"
      ]
     },
     "execution_count": 238,
     "metadata": {},
     "output_type": "execute_result"
    }
   ],
   "source": [
    "ez_train_df[~ez_train_df['zero_success']]"
   ]
  },
  {
   "cell_type": "markdown",
   "id": "2ad05394",
   "metadata": {},
   "source": [
    "# Generate & Inject random thoughts"
   ]
  },
  {
   "cell_type": "code",
   "execution_count": 21,
   "id": "aec89e61",
   "metadata": {},
   "outputs": [],
   "source": [
    "tokenzier = AutoTokenizer.from_pretrained(\"deepseek-ai/DeepSeek-R1-Distill-Qwen-1.5B\")"
   ]
  },
  {
   "cell_type": "code",
   "execution_count": 55,
   "id": "973002e3",
   "metadata": {},
   "outputs": [],
   "source": [
    "prompt_str = tokenzier.apply_chat_template(\n",
    "    [\n",
    "        {'role': 'system', 'content': 'You are taking the exam at International Mathematical Olympiad.'},\n",
    "        {'role': 'user', 'content': 'You need to solve this very difficult algebra problem. Think very carefully and exhaustively about this problem'}\n",
    "    ],\n",
    "    tokenize=False,\n",
    "    add_generation_prompt=True\n",
    ")"
   ]
  },
  {
   "cell_type": "code",
   "execution_count": 212,
   "id": "c487e745",
   "metadata": {},
   "outputs": [
    {
     "data": {
      "text/html": [
       "<div>\n",
       "<style scoped>\n",
       "    .dataframe tbody tr th:only-of-type {\n",
       "        vertical-align: middle;\n",
       "    }\n",
       "\n",
       "    .dataframe tbody tr th {\n",
       "        vertical-align: top;\n",
       "    }\n",
       "\n",
       "    .dataframe thead th {\n",
       "        text-align: right;\n",
       "    }\n",
       "</style>\n",
       "<table border=\"1\" class=\"dataframe\">\n",
       "  <thead>\n",
       "    <tr style=\"text-align: right;\">\n",
       "      <th></th>\n",
       "      <th>random_thought</th>\n",
       "      <th>prompt</th>\n",
       "      <th>think_tokens</th>\n",
       "    </tr>\n",
       "  </thead>\n",
       "  <tbody>\n",
       "    <tr>\n",
       "      <th>1</th>\n",
       "      <td>Okay, so I have this calculus problem to solve...</td>\n",
       "      <td>&lt;｜begin▁of▁sentence｜&gt;You are the smartest math...</td>\n",
       "      <td>2104</td>\n",
       "    </tr>\n",
       "    <tr>\n",
       "      <th>5</th>\n",
       "      <td>Okay, so I've got this Discrete Mathematics pr...</td>\n",
       "      <td>&lt;｜begin▁of▁sentence｜&gt;You are the smartest math...</td>\n",
       "      <td>5991</td>\n",
       "    </tr>\n",
       "    <tr>\n",
       "      <th>13</th>\n",
       "      <td>Alright, I've got this differential equation t...</td>\n",
       "      <td>&lt;｜begin▁of▁sentence｜&gt;You are the smartest math...</td>\n",
       "      <td>4300</td>\n",
       "    </tr>\n",
       "    <tr>\n",
       "      <th>15</th>\n",
       "      <td>Okay, so I've been given this problem that req...</td>\n",
       "      <td>&lt;｜begin▁of▁sentence｜&gt;You are the smartest math...</td>\n",
       "      <td>3560</td>\n",
       "    </tr>\n",
       "    <tr>\n",
       "      <th>16</th>\n",
       "      <td>Okay, so I have this problem in front of me ab...</td>\n",
       "      <td>&lt;｜begin▁of▁sentence｜&gt;You are the smartest math...</td>\n",
       "      <td>2122</td>\n",
       "    </tr>\n",
       "    <tr>\n",
       "      <th>...</th>\n",
       "      <td>...</td>\n",
       "      <td>...</td>\n",
       "      <td>...</td>\n",
       "    </tr>\n",
       "    <tr>\n",
       "      <th>9974</th>\n",
       "      <td>Okay, so I need to solve a differential equati...</td>\n",
       "      <td>&lt;｜begin▁of▁sentence｜&gt;You are the smartest math...</td>\n",
       "      <td>2620</td>\n",
       "    </tr>\n",
       "    <tr>\n",
       "      <th>9975</th>\n",
       "      <td>Okay, so I've got this Algebra problem here th...</td>\n",
       "      <td>&lt;｜begin▁of▁sentence｜&gt;You are the smartest math...</td>\n",
       "      <td>3781</td>\n",
       "    </tr>\n",
       "    <tr>\n",
       "      <th>9980</th>\n",
       "      <td>Okay, so I've just realized I need to solve th...</td>\n",
       "      <td>&lt;｜begin▁of▁sentence｜&gt;You are the smartest math...</td>\n",
       "      <td>2288</td>\n",
       "    </tr>\n",
       "    <tr>\n",
       "      <th>9981</th>\n",
       "      <td>Okay, so I came across this differential equat...</td>\n",
       "      <td>&lt;｜begin▁of▁sentence｜&gt;You are the smartest math...</td>\n",
       "      <td>3160</td>\n",
       "    </tr>\n",
       "    <tr>\n",
       "      <th>9993</th>\n",
       "      <td>Okay, so I'm trying to solve this Number Theor...</td>\n",
       "      <td>&lt;｜begin▁of▁sentence｜&gt;You are the smartest math...</td>\n",
       "      <td>3430</td>\n",
       "    </tr>\n",
       "  </tbody>\n",
       "</table>\n",
       "<p>3005 rows × 3 columns</p>\n",
       "</div>"
      ],
      "text/plain": [
       "                                         random_thought  \\\n",
       "1     Okay, so I have this calculus problem to solve...   \n",
       "5     Okay, so I've got this Discrete Mathematics pr...   \n",
       "13    Alright, I've got this differential equation t...   \n",
       "15    Okay, so I've been given this problem that req...   \n",
       "16    Okay, so I have this problem in front of me ab...   \n",
       "...                                                 ...   \n",
       "9974  Okay, so I need to solve a differential equati...   \n",
       "9975  Okay, so I've got this Algebra problem here th...   \n",
       "9980  Okay, so I've just realized I need to solve th...   \n",
       "9981  Okay, so I came across this differential equat...   \n",
       "9993  Okay, so I'm trying to solve this Number Theor...   \n",
       "\n",
       "                                                 prompt  think_tokens  \n",
       "1     <｜begin▁of▁sentence｜>You are the smartest math...          2104  \n",
       "5     <｜begin▁of▁sentence｜>You are the smartest math...          5991  \n",
       "13    <｜begin▁of▁sentence｜>You are the smartest math...          4300  \n",
       "15    <｜begin▁of▁sentence｜>You are the smartest math...          3560  \n",
       "16    <｜begin▁of▁sentence｜>You are the smartest math...          2122  \n",
       "...                                                 ...           ...  \n",
       "9974  <｜begin▁of▁sentence｜>You are the smartest math...          2620  \n",
       "9975  <｜begin▁of▁sentence｜>You are the smartest math...          3781  \n",
       "9980  <｜begin▁of▁sentence｜>You are the smartest math...          2288  \n",
       "9981  <｜begin▁of▁sentence｜>You are the smartest math...          3160  \n",
       "9993  <｜begin▁of▁sentence｜>You are the smartest math...          3430  \n",
       "\n",
       "[3005 rows x 3 columns]"
      ]
     },
     "execution_count": 212,
     "metadata": {},
     "output_type": "execute_result"
    }
   ],
   "source": [
    "random_thoughts_df[random_thoughts_df['think_tokens'] > 2048]"
   ]
  },
  {
   "cell_type": "markdown",
   "id": "404f6e00",
   "metadata": {},
   "source": [
    "## Inject Thoughts"
   ]
  },
  {
   "cell_type": "code",
   "execution_count": 262,
   "id": "8ac48f74",
   "metadata": {},
   "outputs": [],
   "source": [
    "path=\"/mnt/home/al2644/research/projects/perturb-r/results/deepmath_generate_data/inject_thoughts/Qwen2.5-1.5B-DeepMath-stage1-grpo-level3-4-5epochs-4rollouts-8192max-length-5epochs.pickle\"\n",
    "df = pd.read_pickle(path)"
   ]
  },
  {
   "cell_type": "code",
   "execution_count": 279,
   "id": "093c998b",
   "metadata": {
    "scrolled": true
   },
   "outputs": [],
   "source": [
    "example = df.iloc[0]\n",
    "conversations = [{'role': 'user', 'content': example['problem']}]"
   ]
  },
  {
   "cell_type": "code",
   "execution_count": 267,
   "id": "3380fae7",
   "metadata": {},
   "outputs": [],
   "source": [
    "tokenizer = AutoTokenizer.from_pretrained(\"deepseek-ai/DeepSeek-R1-Distill-Qwen-1.5B\")"
   ]
  },
  {
   "cell_type": "code",
   "execution_count": 284,
   "id": "70f291e2",
   "metadata": {},
   "outputs": [],
   "source": [
    "filepath = \"/mnt/home/al2644/research/projects/rlvr/data/train/deepmath_level3-4-stage2-post-step285-reward-lt-1.0-randomthought/train.parquet\"\n",
    "random_thought_train_df = pd.read_parquet(filepath)"
   ]
  },
  {
   "cell_type": "code",
   "execution_count": 294,
   "id": "87be5e55",
   "metadata": {},
   "outputs": [
    {
     "data": {
      "text/plain": [
       "array([{'content': 'Determine the number of points in the interval \\\\([0, 2\\\\pi]\\\\) where the function \\\\( g(x) = \\\\left[\\\\cos x\\\\right] \\\\) is discontinuous. Here, \\\\([\\\\cdot]\\\\) denotes the greatest integer function.', 'role': 'user'}],\n",
       "      dtype=object)"
      ]
     },
     "execution_count": 294,
     "metadata": {},
     "output_type": "execute_result"
    }
   ],
   "source": [
    "random_thought_train_df['prompt'].iloc[1]"
   ]
  },
  {
   "cell_type": "code",
   "execution_count": 295,
   "id": "04153157",
   "metadata": {
    "scrolled": true
   },
   "outputs": [],
   "source": [
    "chat = random_thought_train_df['prompt'].iloc[1]\n",
    "has_assistant_message = any(message.get(\"role\") == \"assistant\" for message in chat)"
   ]
  },
  {
   "cell_type": "code",
   "execution_count": 296,
   "id": "511e94ff",
   "metadata": {},
   "outputs": [],
   "source": [
    "prompt_w_template = tokenizer.apply_chat_template(chat, add_generation_prompt=not has_assistant_message, tokenize=False).removesuffix(tokenizer.eos_token)\n",
    "\n",
    "\n"
   ]
  },
  {
   "cell_type": "code",
   "execution_count": 297,
   "id": "5c1f419a",
   "metadata": {
    "scrolled": true
   },
   "outputs": [
    {
     "name": "stdout",
     "output_type": "stream",
     "text": [
      "<｜begin▁of▁sentence｜><｜User｜>Determine the number of points in the interval \\([0, 2\\pi]\\) where the function \\( g(x) = \\left[\\cos x\\right] \\) is discontinuous. Here, \\([\\cdot]\\) denotes the greatest integer function.<｜Assistant｜><think>\n",
      "\n"
     ]
    }
   ],
   "source": [
    "print(prompt_w_template)"
   ]
  },
  {
   "cell_type": "markdown",
   "id": "e34dcc01",
   "metadata": {},
   "source": [
    "# Rollouts"
   ]
  },
  {
   "cell_type": "code",
   "execution_count": 119,
   "id": "831506b7",
   "metadata": {},
   "outputs": [],
   "source": [
    "rollout_dataset = load_dataset('aochongoliverli/R1-Distill-Qwen-1.5B-DeepMath-stage1-grpo-level3-4-5epochs-4rollouts-8192max-length-rollouts')['train']"
   ]
  },
  {
   "cell_type": "code",
   "execution_count": 156,
   "id": "910d62be",
   "metadata": {},
   "outputs": [
    {
     "data": {
      "application/vnd.jupyter.widget-view+json": {
       "model_id": "5e4e8f47d84b49f28e9b7f7bbcbcf22e",
       "version_major": 2,
       "version_minor": 0
      },
      "text/plain": [
       "computing mean reward after step 285 (num_proc=4):   0%|          | 0/12197 [00:00<?, ? examples/s]"
      ]
     },
     "metadata": {},
     "output_type": "display_data"
    }
   ],
   "source": [
    "import numpy as np\n",
    "from datasets import Dataset   # only needed for context\n",
    "\n",
    "def post_cutoff_reward(example, *, cutoff_step: int = 300):\n",
    "    \"\"\"\n",
    "    Mean reward for timesteps > cutoff_step.\n",
    "    Returns a dict so 🤗 Datasets adds it as a new column.\n",
    "    \"\"\"\n",
    "    rewards = np.asarray(example[\"reward\"])\n",
    "    steps   = np.asarray(example[\"global_step\"])\n",
    "    mask    = steps > cutoff_step\n",
    "    return {\n",
    "        \"epoch4_reward\": rewards[mask].mean() if mask.any() else np.nan\n",
    "    }\n",
    "\n",
    "# add the column in one pass (rollout_dataset is mutated in-place unless you copy)\n",
    "rollout_dataset = rollout_dataset.map(\n",
    "    post_cutoff_reward,\n",
    "    fn_kwargs={\"cutoff_step\": 285},\n",
    "    num_proc=4,\n",
    "    desc=\"computing mean reward after step 285\"\n",
    ")\n"
   ]
  },
  {
   "cell_type": "code",
   "execution_count": 160,
   "id": "c380c692",
   "metadata": {},
   "outputs": [
    {
     "data": {
      "application/vnd.jupyter.widget-view+json": {
       "model_id": "a1b93b2370bf4c34983e203600fc4a53",
       "version_major": 2,
       "version_minor": 0
      },
      "text/plain": [
       "Filter:   0%|          | 0/12197 [00:00<?, ? examples/s]"
      ]
     },
     "metadata": {},
     "output_type": "display_data"
    }
   ],
   "source": [
    "sample_dataset = rollout_dataset.filter(lambda x : x['epoch4_reward'] <1.)"
   ]
  },
  {
   "cell_type": "code",
   "execution_count": 181,
   "id": "5ac7db8a",
   "metadata": {},
   "outputs": [
    {
     "data": {
      "text/plain": [
       "Dataset({\n",
       "    features: ['index', 'question', 'response', 'reward', 'global_step', 'post300_reward', 'epoch4_reward'],\n",
       "    num_rows: 6578\n",
       "})"
      ]
     },
     "execution_count": 181,
     "metadata": {},
     "output_type": "execute_result"
    }
   ],
   "source": [
    "sample_dataset"
   ]
  },
  {
   "cell_type": "code",
   "execution_count": 187,
   "id": "c0c44ce0",
   "metadata": {},
   "outputs": [
    {
     "data": {
      "text/plain": [
       "2586"
      ]
     },
     "execution_count": 187,
     "metadata": {},
     "output_type": "execute_result"
    }
   ],
   "source": [
    "len(tokenzier.encode(noise))"
   ]
  },
  {
   "cell_type": "code",
   "execution_count": 188,
   "id": "b266f892",
   "metadata": {
    "scrolled": true
   },
   "outputs": [
    {
     "name": "stdout",
     "output_type": "stream",
     "text": [
      "acc:  0.875\n",
      "<｜begin▁of▁sentence｜><｜User｜>Evaluate the integral: \\[ \\int_{0}^{\\sqrt[6]{\\pi}} x^5 \\cos(x^6) \\, dx \\]<｜Assistant｜><think>\n",
      "Okay, so I have this problem in front of me about an object moving on a parabolic surface. Let me see if I can make sense of it. The problem says that an object is moving along a smooth parabolic path, and after moving a small distance ds along the surface, its weight increases by a small amount dw, and the increase dw is proportional to the distance moved ds. The goal is to find the ratio k = dw/ds.\n",
      "\n",
      "Alright, first, I need to visualize the parabolic path. It's a standard parabola, probably of the form y = ax², right? Or maybe it's better to express it in terms of y as a function of x or vice versa. The slope of the parabola will be important because weight is related to the component of gravitational acceleration along the surface.\n",
      "\n",
      "So, when an object is on a path, the total gravitational force, which is mg, gets split into two components: one perpendicular to the surface (which affects the normal force, hence the normal reaction) and one tangential to the surface (which leads to acceleration). But the problem here is about the change in weight. Wait, is the weight considered here as the normal force or the actual gravitational force? Hmm, the wording says \"its weight increases by a small amount dw.\" Hmm, weight is actually the component of gravitational force perpendicular to the surface. So, perhaps the increase in weight is due to the change in the normal force as the object moves along the surface.\n",
      "\n",
      "Oh, but the problem states that dw is proportional to ds, so maybe it's considering the change in the component of the weight along the surface? Or perhaps the problem is about the object's weight in terms of the normal force and friction forces, but since it's just a problem of weight change, I might be overcomplicating it.\n",
      "\n",
      "Wait, if the surface is smooth, we don't have friction. So the weight change dw might be related to the normal force difference over the surface as the object moves from one point to another along the curve. So, if the object moves a small distance ds along the surface, the change in the normal force (which is related to the weight) would depend on how the normal force changes along the path. So, if the surface is parabolic, the slope at any point would affect the normal force.\n",
      "\n",
      "So, the normal force N is equal to mg times the cosine of the angle θ between the weight and the normal force. So, N = mg cosθ. Therefore, the change in normal force dN would be equal to -mg sinθ dθ (using differentials). But since dw is the increase in weight, which might be related to the normal force, maybe dw = dN. Hmm, or is it considering the projection of weight onto the direction of motion?\n",
      "\n",
      "Wait, the problem says \"its weight increases by a small amount dw.\" Maybe dw is the increment in weight due to the movement along the path. So, if the path has a slope, moving a small distance ds along the path would result in a small increase in weight. The increase in weight would depend on the vertical component of displacement.\n",
      "\n",
      "So, the vertical change dz when moving a distance ds along the path can be approximated by dz ≈ ds * cosθ, and hence the weight, which is proportional to mg, would change by Δw = dw = -mg cosθ · (-dz) ≈ -mg (cosθ)(dy/ds) ds. Since the slope is dy/dx, but since we're moving along the curve, dy ≈ dz = (dy/dx) dx, and dx = ds, so dy/dx = (dy/ds). Therefore, dw ≈ -mg (dy/ds) ds.\n",
      "\n",
      "But the problem says dw is proportional to ds, so dw = k ds, meaning that the change in weight is proportional to the distance moved. So, that suggests that k is equal to the negative of the slope times g, considering the direction. But since it's a parabolic surface, the slope could be dy/dx at a point, and if it's a function y(x), then the slope is dy/dx.\n",
      "\n",
      "Wait, the parabola is a function y(x). So, if the path is y(x) = ax², then the slope at any point is dy/dx = 2ax. But perhaps the problem is general, so we can express k in terms of the slope.\n",
      "\n",
      "Alternatively, if the parabola is y(x) = ax², then the slope is 2ax. So, the change in y over the change in x is 2ax, which is the slope. Therefore, the change in weight dw would be proportional to the change in y, which is 2ax * ds. So, maybe the constant of proportionality k is 2a, assuming that the weight increase proportional to ds, and the change in weight due to moving a small distance.\n",
      "\n",
      "Wait, but the problem says dw is proportional to ds, so we can write dw = k ds. In the case of the normal force, the change in weight would relate to the vertical component of the displacement. So, if the normal force is proportional to weight, then the change in normal force would be proportional to the vertical change in y.\n",
      "\n",
      "Therefore, if moving a small distance ds, the vertical change is dy ≈ ds * sinθ, where θ is the angle between the path and the horizontal. But in terms of the slope, tanθ = dy/dx, and sinθ = tanθ / sqrt(1 + tan²θ) = (dy/dx) / sqrt(1 + (dy/dx)^2). Alternatively, in terms of the slope m, there's a relation between dy and ds.\n",
      "\n",
      "Wait, if the slope m = dy/dx, then moving a small distance ds in the x-direction (though actually, ds is the arc length, which is related to dx by ds = dx / sqrt(1 + m²)). But perhaps for small distances, the vertical change dz can be approximated as m dx, since dz = g ds. Wait, no, that's not clear.\n",
      "\n",
      "Maybe it's simpler to consider the weight change as dw = mg dz, where dz is the vertical displacement, but that doesn't seem right. Alternatively, if the object moves a small distance ds along the surface, the weight change is due to the projection along the surface.\n",
      "\n",
      "Wait, perhaps I should think about work. The weight is mg, and moving a small distance ds along the path, the work done against the weight might relate to the increase in weight. But the problem states that the increase in weight dw is proportional to ds, so maybe dw = k ds, and we need to find k in terms of the parabola's geometry.\n",
      "\n",
      "If the path is a parabola, y = ax², then the gravitational force is mg, and the actual component along the surface would be mg sinθ, but the problem mentions weight, which is the perpendicular component, so N = mg cosθ, and dw = dN. So, dw = -mg sinθ dl, where dl is the arc length element. But if dl ≈ ds (since we're considering small distances), then dw ≈ -mg sinθ ds. But sinθ can be expressed in terms of the slope.\n",
      "\n",
      "Since slope m = dy/dx = 2ax, then tanθ = m = 2ax, so sinθ = m / sqrt(1 + m²) = (2ax) / sqrt(1 + 4a²x²). But perhaps for small distances, the x is not changing much, so the slope m is small, and maybe sinθ ≈ m. Alternatively, in the limit as ds approaches zero, m approaches dz/dx, which is the vertical change per horizontal change, so m = dy/dx.\n",
      "\n",
      "Therefore, sinθ ≈ m / sqrt(1 + m²) ≈ m, for small m. Therefore, dw ≈ -mg (dy/dx) ds, so dw = -mg (dy/dx) ds. Therefore, the proportionality constant k would be -mg (dy/dx). However, the problem says k = dw/ds, so k = -mg (dy/dx). But dy/dx is the slope, and dy/dx = m. So, k = -g m. But the problem might expect a positive value, so perhaps k = g m.\n",
      "\n",
      "Wait, maybe I should consider direction. If moving upwards, the weight change would be negative, but perhaps the problem is considering the magnitude. So, the magnitude of dw would be mg times the component of the slope, which is g times the slope, so k = g times the slope.\n",
      "\n",
      "In that case, for a parabola y = ax², the slope at any point is 2ax. So, k = g * 2ax = 2agx. But since x can be expressed in terms of y, because y = ax², x = sqrt(y/a). Therefore, k = 2ag * sqrt(y/a) = 2g * sqrt(a y)/a? Wait, that seems a bit convoluted. Alternatively, since we're dealing with a derivative, perhaps the slope m is dy/dx, so m = 2ax, so k = g m = 2agx.\n",
      "\n",
      "Wait, maybe I'm overcomplicating. The problem might just be considering that the weight increases by an amount proportional to the distance moved, and the constant of proportionality is twice the slope times g. Alternatively, perhaps it's expecting the answer in terms of the slope.\n",
      "\n",
      "In any case, the key point is that dw = k ds implies that k = dw/ds = -mg (dy/dx). So, the proportionality constant k is -mg times the derivative of y with respect to x, which is the slope of the parabola. Since the problem didn't specify a particular parabola or any specific values, the answer would be in terms of the slope of the parabola and the gravitational constant g. Therefore, the constant of proportionality k is equal to the product of g and the slope of the parabolic path at the point of movement.\n",
      "</think>\n",
      "\n",
      "The problem requires finding the constant of proportionality \\( k \\) such that the increase in weight \\( dw \\) is proportional to the distance moved \\( ds \\). Given the object moves along a smooth parabolic surface defined by \\( y = ax^2 \\), the weight change \\( dw \\) can be determined by considering the change in normal force or the component of weight along the surface.\n",
      "\n",
      "The key steps are as follows:\n",
      "\n",
      "1. **Express the Path**: The parabola is given by \\( y = ax^2 \\), where \\( a \\) is a constant.\n",
      "\n",
      "2. **Understand Weight and Normal Force**: The weight \\( w \\) of the object is \\( mg \\), perpendicular to the surface. The normal force \\( N \\) balances the component of gravitational force perpendicular to the surface.\n",
      "\n",
      "3. **Differential Slope**: The slope of the parabola at any point is \\( \f",
      "rac{dy}{dx} = 2ax \\). For small distances, the change in vertical displacement \\( dz \\) is approximately \\( \f",
      "rac{dy}{dx} dx \\).\n",
      "\n",
      "4. **Weight Change**: The change in weight \\( dw \\) is related to the change in vertical displacement. For small movement, \\( dw \\propto ds \\), where \\( ds \\) is the distance moved.\n",
      "\n",
      "5. **Proportionality Constant**: The constant of proportionality \\( k \\) is found by \\( dw = k \\, ds \\). Using the slope \\( m = \f",
      "rac{dy}{dx} \\), the constant \\( k \\) becomes \\( k = g m \\), where \\( g \\) is the acceleration due to gravity.\n",
      "\n",
      "6. **Express in Terms of Parabola**: Since \\( m = 2ax \\) for the parabola \\( y = ax^2 \\), the constant \\( k \\) is expressed in terms of the slope of the parabola or position \\( x \\).\n",
      "\n",
      "Therefore, the ratio \\( k = \f",
      "rac{dw}{ds} \\) is equal to the product of the acceleration due to gravity \\( g \\) and the slope of the parabola at the point of movement. Hence, \\( k = g \\cdot \f",
      "rac{dy}{dx} \\).\n"
     ]
    }
   ],
   "source": [
    "print('acc: ', example['epoch4_reward'])\n",
    "print(prompt + noise)"
   ]
  },
  {
   "cell_type": "code",
   "execution_count": 185,
   "id": "fc5ee786",
   "metadata": {},
   "outputs": [
    {
     "name": "stdout",
     "output_type": "stream",
     "text": [
      "Okay, so I have this integral to solve: the integral from 0 to the sixth root of pi of x^5 times cosine of x^6, all with respect to x. Hmm, that's \\[ \\int_{0}^{\\sqrt[6]{\\pi}} x^5 \\cos(x^6) dx \\]. Alright, let me see how to approach this.\n",
      "\n",
      "I remember that when I see something like x^n times cosine of x^m dx, sometimes a substitution might help. Because in this case, the exponent on x in cosine is x^6, and the other part is x^5. Maybe if I let u be x^6, that could simplify things. Let me try that.\n",
      "\n",
      "So, if I set u = x^6, then du/dx would be 6x^5, right? That means du = 6x^5 dx. Wait, so x^5 dx is du/6. That seems useful because I have an x^5 dx term in the integral. So, if I do that substitution, I can rewrite the integral in terms of u.\n",
      "\n",
      "Let me write that down more clearly. Substitute:\n",
      "\n",
      "When x = 0, u = 0^6 = 0.\n",
      "\n",
      "When x = \\sqrt[6]{\\pi}, u = (\\sqrt[6]{\\pi})^6 = pi.\n",
      "\n",
      "So, the limits of integration become from 0 to pi. That seems simpler.\n",
      "\n",
      "So, substituting into the integral, we have:\n",
      "\n",
      "Integral from 0 to pi of cos(u) * (du/6)\n",
      "\n",
      "Which is (1/6) times the integral of cos(u) du.\n",
      "\n",
      "Alright, integrating cos(u) is straightforward. The integral of cos(u) is sin(u). So, putting it back together:\n",
      "\n",
      "(1/6) sin(u) evaluated from 0 to pi.\n",
      "\n",
      "So, substituting back in terms of x, since u was x^6:\n",
      "\n",
      "(1/6)[sin(x^6) from 0 to pi]\n",
      "\n",
      "Now, let's compute that:\n",
      "\n",
      "First, plug in the upper limit pi: sin(pi). But sin(pi) is 0.\n",
      "\n",
      "Then plug in the lower limit 0: sin(0^6) which is sin(0), which is also 0.\n",
      "\n",
      "Therefore, 0 - 0 is 0, multiplied by 1/6 is still 0.\n",
      "\n",
      "Wait, but that seems strange. If I'm integrating x^5 cos(x^6) from 0 to pi^(1/6), the result is zero? Hmmm.\n",
      "\n",
      "Let me verify my steps because that seems odd.\n",
      "\n",
      "First, the substitution: u = x^6, so du = 6x^5 dx. That's correct because the derivative of u is 6x^5, so solving for du gives du = 6x^5 dx. So, x^5 dx is du/6.\n",
      "\n",
      "So, replacing that in the integral, yes, integral becomes (1/6) integral of cos(u) du, from 0 to pi.\n",
      "\n",
      "Integral is (1/6) sin(u) evaluated from 0 to pi.\n",
      "\n",
      "Which is (1/6)(sin(pi) - sin(0)), which is (1/6)(0 - 0) = 0.\n",
      "\n",
      "So, yeah, it does indeed result in zero. That might seem surprising, but considering the periodic nature of sine, it's balanced from 0 to pi. Let me think, sin(pi) is 0, and sin(0) is 0, so the difference is zero.\n",
      "\n",
      "Alternatively, perhaps the function is odd? Let's check the function properties.\n",
      "\n",
      "Looking at the integrand: x^5 cos(x^6). Let's see if it's an odd function. Since it's defined from -a to a, but in this case, the lower limit is 0, but since cos(x^6) is an even function in x because cosine is even and x^6 is even, so the product of two even functions is even.\n",
      "\n",
      "Wait, hold on, is x^5 even? No, x^5 is odd since it has an exponent of 5, which is odd. So, x^5 is odd, and cos(x^6) is even. Then, the product of an odd function and an even function is odd.\n",
      "\n",
      "So, the integrand is actually an odd function. But the integral of an odd function from -a to a is zero. However, in this case, the upper limit is pi^(1/6), which is a positive number greater than zero.\n",
      "\n",
      "Wait, so does the function become odd if we extend it past the origin? Hmm, but the integral is from 0 to pi^(1/6), not from -pi^(1/6) to pi^(1/6). So perhaps the integral isn't necessarily zero anymore.\n",
      "\n",
      "But hang on, in my calculation, I changed the variable from x to u = x^6, which transformed the integral into one from 0 to pi. But I didn't have to apply the property of odd functions on a symmetric interval; perhaps my substitution trick worked well because the original function didn't have a natural symmetry over [0, a]. Maybe an alternate substitution could have been used?\n",
      "\n",
      "Wait, no, in any case, my method didn't force any symmetry because the substitution only re-expressed the integral without necessarily exploiting any symmetry properties, but I got a result of zero.\n",
      "\n",
      "So, maybe my mistake was in expecting the integral to be zero based on the function being odd, but actually, the substitution transformed it into a symmetric integral. Let me check that.\n",
      "\n",
      "Wait, so if I have u = x^6, when x is from 0 to a, u goes from 0 to a^6. So, indeed, integrating from 0 to a^6 of cos(u) du is symmetric because cos is even. Therefore, when integrating from -c to c of an odd function, it's zero. But when integrating from 0 to c, if the function is odd, it doesn't automatically become zero because it's not over a symmetric interval. But in this case, if x is positive only, from 0 to a^6, which might not have the same behavior as integrating over a symmetric interval.\n",
      "\n",
      "Therefore, perhaps my substitution is correct and that the integral is indeed zero because integrating an odd function over non-symmetric limits ends up not necessarily zero. Because, in this case, over x=0 to x=pi^(1/6), which isn't about the origin but about some positive number.\n",
      "\n",
      "Wait, perhaps my initial conclusion was correct. The integral simplifies to zero because of the substitution, which even though the substitution made it from 0 to pi, the original integrand didn't necessarily have symmetry such that the area above and below cancel out on [0, pi^(1/6)].\n",
      "\n",
      "So, perhaps the zero result is accurate.\n",
      "\n",
      "Alternatively, maybe there is another substitution that could make it easier? Hmm, but I think the first substitution I used is the simplest.\n",
      "\n",
      "Wait, let me test that substitution again: u = x^6, du = 6x^5 dx, so x^5 dx = du/6, and then integral becomes (1/6) integral cos(u) du, which is (1/6) sin(u), which from u=0 to u=pi is (1/6)(sin(pi) - sin(0)). Which is (1/6)(0 - 0) = 0. So, that seems consistent.\n",
      "\n",
      "So, each step seems correct. Therefore, the integral is zero.\n",
      "\n",
      "Alternatively, just to probe if this is correct by evaluating at some points.\n",
      "\n",
      "Suppose I consider x = pi^(1/3), that's a point approaching somewhere in the middle of [0, pi^(1/6)]?\n",
      "\n",
      "Wait, pi^(1/6) is approximately... Let me calculate. Since pi is roughly 3.1416. So, pi^(1/6) is the sixth root of pi. Let me compute that:\n",
      "\n",
      "pi^(1/6) = (e^{ln(pi)})^{1/6} = e^{(ln(pi))/6} ≈ e^{1.144} / 6? Wait, no:\n",
      "\n",
      "Actually, wait, natural log of pi is approximately 1.1447, so divided by 6 is approximately 0.1908. Therefore, e^{0.1908} is approximately 1.210.\n",
      "\n",
      "So, pi^(1/6) is approximately 1.210.\n",
      "\n",
      "So, if x goes from 0 to ~1.21. So, the integration from 0 to 1.21: but in my substitution, I have u from 0 to pi, which is ~3.1416. So, from 0 to ~3.14 in u. So, while integrating over u from 0 to 3.14, but the function's even.\n",
      "\n",
      "Hmm, perhaps not seeing the symmetry immediately. But, in any case, with substitution, that seems to give zero.\n",
      "\n",
      "Let me see another approach. Maybe integrating by parts?\n",
      "\n",
      "Let me try integration by parts. So, integral of x^5 cos(x^6) dx.\n",
      "\n",
      "Let me set u = x^5, dv = cos(x^6) dx.\n",
      "\n",
      "Then, du = 5x^4 dx.\n",
      "\n",
      "But, we need to find v = integral of dv, which is integral of cos(x^6) dx. That doesn't have an elementary antiderivative; in fact, it's a well-known non-elementary integral. So, integration by parts might not be helpful here as it will lead to another complicated integral.\n",
      "\n",
      "Hence, substitution seems like the better approach.\n",
      "\n",
      "Alternatively, trying to see if there's symmetry in the original function when viewed over [0, pi^(1/6)].\n",
      "\n",
      "But given that x is non-negative here, the substitution works fine.\n",
      "\n",
      "Wait, perhaps I should check if the function is odd or even or neither. Wait, considering x in [0, pi^(1/6)], as x increases, the cosine term oscillates, while the polynomial term is monotonic.\n",
      "\n",
      "Wait, but since the substitution only grasps the upper limit and the interval isn't inherently about a negative origin, it's a bit tricky.\n",
      "\n",
      "Hmm, probably, given the steps, the substitution seems correct and gives the result zero. So, perhaps, my calculation is correct.\n",
      "\n",
      "Therefore, after carefully stepping through the substitution, changing variables, evaluating the integral, and simplifying, I find that the integral evaluates to zero.\n",
      "\n",
      "**Final Answer**\n",
      "The value of the integral is \\boxed{0}.\n",
      "</think>\n",
      "\n",
      "To evaluate the integral \\[ \\int_{0}^{\\sqrt[6]{\\pi}} x^5 \\cos(x^6) \\, dx \\], we use the substitution method. \n",
      "\n",
      "Let \\( u = x^6 \\). Then, \\( du = 6x^5 \\, dx \\), which implies \\( x^5 \\, dx = \\frac{1}{6} \\, du \\).\n",
      "\n",
      "Next, we change the limits of integration:\n",
      "- When \\( x = 0 \\), \\( u = 0 \\).\n",
      "- When \\( x = \\sqrt[6]{\\pi} \\), \\( u = (\\sqrt[6]{\\pi})^6 = \\pi \\).\n",
      "\n",
      "Substituting \\( u \\) into the integral, we get:\n",
      "\\[ \\int_{0}^{\\sqrt[6]{\\pi}} x^5 \\cos(x^6) \\, dx = \\frac{1}{6} \\int_{0}^{\\pi} \\cos(u) \\, du. \\]\n",
      "\n",
      "Evaluating the integral, we have:\n",
      "\\[ \\frac{1}{6} \\left[ \\sin(u) \\right]_{0}^{\\pi} = \\frac{1}{6} (\\sin(\\pi) - \\sin(0)) = \\frac{1}{6} (0 - 0) = 0. \\]\n",
      "\n",
      "Thus, the value of the integral is \\[ \\boxed{0}. \\]<｜end▁of▁sentence｜>\n"
     ]
    }
   ],
   "source": [
    "print(example['response'][4])"
   ]
  }
 ],
 "metadata": {
  "kernelspec": {
   "display_name": "Python 3 (ipykernel)",
   "language": "python",
   "name": "python3"
  },
  "language_info": {
   "codemirror_mode": {
    "name": "ipython",
    "version": 3
   },
   "file_extension": ".py",
   "mimetype": "text/x-python",
   "name": "python",
   "nbconvert_exporter": "python",
   "pygments_lexer": "ipython3",
   "version": "3.10.18"
  }
 },
 "nbformat": 4,
 "nbformat_minor": 5
}
