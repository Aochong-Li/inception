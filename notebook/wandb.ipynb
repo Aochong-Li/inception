{
 "cells": [
  {
   "cell_type": "code",
   "execution_count": 1,
   "id": "c380da02",
   "metadata": {},
   "outputs": [
    {
     "name": "stderr",
     "output_type": "stream",
     "text": [
      "\u001b[34m\u001b[1mwandb\u001b[0m: Using wandb-core as the SDK backend.  Please refer to https://wandb.me/wandb-core for more information.\n",
      "\u001b[34m\u001b[1mwandb\u001b[0m: Logging into wandb.ai. (Learn how to deploy a W&B server locally: https://wandb.me/wandb-server)\n",
      "\u001b[34m\u001b[1mwandb\u001b[0m: You can find your API key in your browser here: https://wandb.ai/authorize\n",
      "\u001b[34m\u001b[1mwandb\u001b[0m: Paste an API key from your profile and hit enter:"
     ]
    },
    {
     "name": "stdout",
     "output_type": "stream",
     "text": [
      " ········\n"
     ]
    },
    {
     "name": "stderr",
     "output_type": "stream",
     "text": [
      "\u001b[34m\u001b[1mwandb\u001b[0m: \u001b[33mWARNING\u001b[0m If you're specifying your api key in code, ensure this code is not shared publicly.\n",
      "\u001b[34m\u001b[1mwandb\u001b[0m: \u001b[33mWARNING\u001b[0m Consider setting the WANDB_API_KEY environment variable, or running `wandb login` from the command line.\n",
      "\u001b[34m\u001b[1mwandb\u001b[0m: No netrc file found, creating one.\n",
      "\u001b[34m\u001b[1mwandb\u001b[0m: Appending key for api.wandb.ai to your netrc file: /mnt/home/al2644/.netrc\n",
      "\u001b[34m\u001b[1mwandb\u001b[0m: Currently logged in as: \u001b[33mal2644\u001b[0m (\u001b[33mal2644-cornell-university\u001b[0m) to \u001b[32mhttps://api.wandb.ai\u001b[0m. Use \u001b[1m`wandb login --relogin`\u001b[0m to force relogin\n"
     ]
    }
   ],
   "source": [
    "import pandas as pd\n",
    "import wandb\n",
    "import os\n",
    "import wandb\n",
    "\n",
    "wandb.login()\n",
    "api = wandb.Api()"
   ]
  },
  {
   "cell_type": "code",
   "execution_count": 3,
   "id": "50f252df",
   "metadata": {},
   "outputs": [
    {
     "name": "stdout",
     "output_type": "stream",
     "text": [
      "{'id': 'g65j13b6', 'name': 'Qwen2.5-1.5B-DeepMath-level1-4-14k-sft-stage0'}\n",
      "{'id': 'knnipi6n', 'name': 'Qwen2.5-1.5B-DeepMath-stage1-grpo-level5-4epochs-4rollouts-8192max-length'}\n",
      "{'id': 'qx4z4h0w', 'name': 'Qwen2.5-1.5B-DeepMath-level1-4-14k-sft-stage0'}\n",
      "{'id': 'vcvddn3y', 'name': 'Qwen2.5-1.5B-DeepMath-stage1-grpo-level5-5epochs-6rollouts-16384max-length'}\n",
      "{'id': 'd5v3aovr', 'name': 'R1-Distill-Qwen-1.5B-DeepMath-stage1-grpo-level3-4-5epochs-4rollouts-8192max-length'}\n",
      "{'id': 'us9addcv', 'name': 'R1-Distill-Qwen-1.5B-DeepMath-stage2-grpo-level3-4-5epochs-4rollouts-8192max-length'}\n"
     ]
    }
   ],
   "source": [
    "ENTITY = \"al2644-cornell-university\"\n",
    "PROJECT = \"deepmath\"\n",
    "for r in api.runs(f\"{ENTITY}/{PROJECT}\"):\n",
    "    print({\"id\": r.id, \"name\": r.name})"
   ]
  }
 ],
 "metadata": {
  "kernelspec": {
   "display_name": "Python 3 (ipykernel)",
   "language": "python",
   "name": "python3"
  },
  "language_info": {
   "codemirror_mode": {
    "name": "ipython",
    "version": 3
   },
   "file_extension": ".py",
   "mimetype": "text/x-python",
   "name": "python",
   "nbconvert_exporter": "python",
   "pygments_lexer": "ipython3",
   "version": "3.10.18"
  }
 },
 "nbformat": 4,
 "nbformat_minor": 5
}
