{
 "cells": [
  {
   "cell_type": "code",
   "execution_count": 3,
   "id": "b43268f6",
   "metadata": {},
   "outputs": [],
   "source": [
    "import pandas as pd \n",
    "import os \n",
    "\n",
    "from transformers import AutoModelForCausalLM, AutoTokenizer\n",
    "from datasets import load_dataset\n",
    "\n",
    "import seaborn as sns\n",
    "\n",
    "from datasets import load_dataset, load_from_disk\n",
    "import datasets\n",
    "import numpy as np\n",
    "import json"
   ]
  },
  {
   "cell_type": "code",
   "execution_count": 2,
   "id": "56a7421e",
   "metadata": {
    "scrolled": true
   },
   "outputs": [
    {
     "data": {
      "text/plain": [
       "'/mnt/home/al2644/research/projects/perturb-r/notebook/countdown'"
      ]
     },
     "execution_count": 2,
     "metadata": {},
     "output_type": "execute_result"
    }
   ],
   "source": [
    "pwd"
   ]
  },
  {
   "cell_type": "code",
   "execution_count": 5,
   "id": "ac5e427f",
   "metadata": {},
   "outputs": [
    {
     "name": "stdout",
     "output_type": "stream",
     "text": [
      "/mnt/home/al2644/research/projects/rlvr\n"
     ]
    }
   ],
   "source": [
    "cd /mnt/home/al2644/research/projects/rlvr"
   ]
  },
  {
   "cell_type": "markdown",
   "id": "c7c13f61",
   "metadata": {},
   "source": [
    "# Check Corrupted Numbers Data"
   ]
  },
  {
   "cell_type": "code",
   "execution_count": 30,
   "id": "b6cc9d8c",
   "metadata": {},
   "outputs": [
    {
     "name": "stdout",
     "output_type": "stream",
     "text": [
      "/mnt/home/al2644\n"
     ]
    }
   ],
   "source": [
    "cd ~/research/projects/research/rlvr/"
   ]
  },
  {
   "cell_type": "code",
   "execution_count": 35,
   "id": "24e1c3b4",
   "metadata": {},
   "outputs": [],
   "source": [
    "path = \"/mnt/home/al2644/research/projects/rlvr/data/train/countdown_level5_corrupt_numbers_14k/train.parquet\"\n",
    "train_df = pd.read_parquet(path)"
   ]
  },
  {
   "cell_type": "code",
   "execution_count": 36,
   "id": "6f8706fb",
   "metadata": {},
   "outputs": [
    {
     "data": {
      "text/html": [
       "<div>\n",
       "<style scoped>\n",
       "    .dataframe tbody tr th:only-of-type {\n",
       "        vertical-align: middle;\n",
       "    }\n",
       "\n",
       "    .dataframe tbody tr th {\n",
       "        vertical-align: top;\n",
       "    }\n",
       "\n",
       "    .dataframe thead th {\n",
       "        text-align: right;\n",
       "    }\n",
       "</style>\n",
       "<table border=\"1\" class=\"dataframe\">\n",
       "  <thead>\n",
       "    <tr style=\"text-align: right;\">\n",
       "      <th></th>\n",
       "      <th>prompt</th>\n",
       "      <th>data_source</th>\n",
       "      <th>ability</th>\n",
       "      <th>reward_model</th>\n",
       "      <th>extra_info</th>\n",
       "    </tr>\n",
       "  </thead>\n",
       "  <tbody>\n",
       "    <tr>\n",
       "      <th>0</th>\n",
       "      <td>[{'content': 'Please reason and answer the fol...</td>\n",
       "      <td>countdown</td>\n",
       "      <td>math</td>\n",
       "      <td>{'ground_truth': {'numbers': [37, 87, 53, 13, ...</td>\n",
       "      <td>{'index': 0, 'level': '5', 'split': 'train'}</td>\n",
       "    </tr>\n",
       "    <tr>\n",
       "      <th>1</th>\n",
       "      <td>[{'content': 'Please reason and answer the fol...</td>\n",
       "      <td>countdown</td>\n",
       "      <td>math</td>\n",
       "      <td>{'ground_truth': {'numbers': [37, 87, 53, 13, ...</td>\n",
       "      <td>{'index': 1, 'level': '5', 'split': 'train'}</td>\n",
       "    </tr>\n",
       "    <tr>\n",
       "      <th>2</th>\n",
       "      <td>[{'content': 'Please reason and answer the fol...</td>\n",
       "      <td>countdown</td>\n",
       "      <td>math</td>\n",
       "      <td>{'ground_truth': {'numbers': [6, 66, 50, 69, 8...</td>\n",
       "      <td>{'index': 2, 'level': '5', 'split': 'train'}</td>\n",
       "    </tr>\n",
       "    <tr>\n",
       "      <th>3</th>\n",
       "      <td>[{'content': 'Please reason and answer the fol...</td>\n",
       "      <td>countdown</td>\n",
       "      <td>math</td>\n",
       "      <td>{'ground_truth': {'numbers': [10, 53, 89, 61, ...</td>\n",
       "      <td>{'index': 3, 'level': '5', 'split': 'train'}</td>\n",
       "    </tr>\n",
       "    <tr>\n",
       "      <th>4</th>\n",
       "      <td>[{'content': 'Please reason and answer the fol...</td>\n",
       "      <td>countdown</td>\n",
       "      <td>math</td>\n",
       "      <td>{'ground_truth': {'numbers': [10, 53, 89, 61, ...</td>\n",
       "      <td>{'index': 4, 'level': '5', 'split': 'train'}</td>\n",
       "    </tr>\n",
       "    <tr>\n",
       "      <th>...</th>\n",
       "      <td>...</td>\n",
       "      <td>...</td>\n",
       "      <td>...</td>\n",
       "      <td>...</td>\n",
       "      <td>...</td>\n",
       "    </tr>\n",
       "    <tr>\n",
       "      <th>13483</th>\n",
       "      <td>[{'content': 'Please reason and answer the fol...</td>\n",
       "      <td>countdown-corrupt</td>\n",
       "      <td>math</td>\n",
       "      <td>{'ground_truth': {'numbers': [39, 59, 82, 27, ...</td>\n",
       "      <td>{'index': 6739, 'level': '5', 'split': 'train'}</td>\n",
       "    </tr>\n",
       "    <tr>\n",
       "      <th>13484</th>\n",
       "      <td>[{'content': 'Please reason and answer the fol...</td>\n",
       "      <td>countdown-corrupt</td>\n",
       "      <td>math</td>\n",
       "      <td>{'ground_truth': {'numbers': [46, 3, 1, 72, 11...</td>\n",
       "      <td>{'index': 6740, 'level': '5', 'split': 'train'}</td>\n",
       "    </tr>\n",
       "    <tr>\n",
       "      <th>13485</th>\n",
       "      <td>[{'content': 'Please reason and answer the fol...</td>\n",
       "      <td>countdown-corrupt</td>\n",
       "      <td>math</td>\n",
       "      <td>{'ground_truth': {'numbers': [35, 1, 33, 31, 4...</td>\n",
       "      <td>{'index': 6741, 'level': '5', 'split': 'train'}</td>\n",
       "    </tr>\n",
       "    <tr>\n",
       "      <th>13486</th>\n",
       "      <td>[{'content': 'Please reason and answer the fol...</td>\n",
       "      <td>countdown-corrupt</td>\n",
       "      <td>math</td>\n",
       "      <td>{'ground_truth': {'numbers': [35, 1, 33, 31, 4...</td>\n",
       "      <td>{'index': 6742, 'level': '5', 'split': 'train'}</td>\n",
       "    </tr>\n",
       "    <tr>\n",
       "      <th>13487</th>\n",
       "      <td>[{'content': 'Please reason and answer the fol...</td>\n",
       "      <td>countdown-corrupt</td>\n",
       "      <td>math</td>\n",
       "      <td>{'ground_truth': {'numbers': [34, 21, 68, 22, ...</td>\n",
       "      <td>{'index': 6743, 'level': '5', 'split': 'train'}</td>\n",
       "    </tr>\n",
       "  </tbody>\n",
       "</table>\n",
       "<p>13488 rows × 5 columns</p>\n",
       "</div>"
      ],
      "text/plain": [
       "                                                  prompt        data_source  \\\n",
       "0      [{'content': 'Please reason and answer the fol...          countdown   \n",
       "1      [{'content': 'Please reason and answer the fol...          countdown   \n",
       "2      [{'content': 'Please reason and answer the fol...          countdown   \n",
       "3      [{'content': 'Please reason and answer the fol...          countdown   \n",
       "4      [{'content': 'Please reason and answer the fol...          countdown   \n",
       "...                                                  ...                ...   \n",
       "13483  [{'content': 'Please reason and answer the fol...  countdown-corrupt   \n",
       "13484  [{'content': 'Please reason and answer the fol...  countdown-corrupt   \n",
       "13485  [{'content': 'Please reason and answer the fol...  countdown-corrupt   \n",
       "13486  [{'content': 'Please reason and answer the fol...  countdown-corrupt   \n",
       "13487  [{'content': 'Please reason and answer the fol...  countdown-corrupt   \n",
       "\n",
       "      ability                                       reward_model  \\\n",
       "0        math  {'ground_truth': {'numbers': [37, 87, 53, 13, ...   \n",
       "1        math  {'ground_truth': {'numbers': [37, 87, 53, 13, ...   \n",
       "2        math  {'ground_truth': {'numbers': [6, 66, 50, 69, 8...   \n",
       "3        math  {'ground_truth': {'numbers': [10, 53, 89, 61, ...   \n",
       "4        math  {'ground_truth': {'numbers': [10, 53, 89, 61, ...   \n",
       "...       ...                                                ...   \n",
       "13483    math  {'ground_truth': {'numbers': [39, 59, 82, 27, ...   \n",
       "13484    math  {'ground_truth': {'numbers': [46, 3, 1, 72, 11...   \n",
       "13485    math  {'ground_truth': {'numbers': [35, 1, 33, 31, 4...   \n",
       "13486    math  {'ground_truth': {'numbers': [35, 1, 33, 31, 4...   \n",
       "13487    math  {'ground_truth': {'numbers': [34, 21, 68, 22, ...   \n",
       "\n",
       "                                            extra_info  \n",
       "0         {'index': 0, 'level': '5', 'split': 'train'}  \n",
       "1         {'index': 1, 'level': '5', 'split': 'train'}  \n",
       "2         {'index': 2, 'level': '5', 'split': 'train'}  \n",
       "3         {'index': 3, 'level': '5', 'split': 'train'}  \n",
       "4         {'index': 4, 'level': '5', 'split': 'train'}  \n",
       "...                                                ...  \n",
       "13483  {'index': 6739, 'level': '5', 'split': 'train'}  \n",
       "13484  {'index': 6740, 'level': '5', 'split': 'train'}  \n",
       "13485  {'index': 6741, 'level': '5', 'split': 'train'}  \n",
       "13486  {'index': 6742, 'level': '5', 'split': 'train'}  \n",
       "13487  {'index': 6743, 'level': '5', 'split': 'train'}  \n",
       "\n",
       "[13488 rows x 5 columns]"
      ]
     },
     "execution_count": 36,
     "metadata": {},
     "output_type": "execute_result"
    }
   ],
   "source": [
    "train_df"
   ]
  },
  {
   "cell_type": "code",
   "execution_count": 16,
   "id": "13f182a5",
   "metadata": {},
   "outputs": [],
   "source": [
    "path = \"./data/train/countdown_level5_50k/test.parquet\"\n",
    "eval_df = pd.read_parquet(path)"
   ]
  },
  {
   "cell_type": "code",
   "execution_count": 17,
   "id": "baa2f067",
   "metadata": {},
   "outputs": [
    {
     "data": {
      "text/html": [
       "<div>\n",
       "<style scoped>\n",
       "    .dataframe tbody tr th:only-of-type {\n",
       "        vertical-align: middle;\n",
       "    }\n",
       "\n",
       "    .dataframe tbody tr th {\n",
       "        vertical-align: top;\n",
       "    }\n",
       "\n",
       "    .dataframe thead th {\n",
       "        text-align: right;\n",
       "    }\n",
       "</style>\n",
       "<table border=\"1\" class=\"dataframe\">\n",
       "  <thead>\n",
       "    <tr style=\"text-align: right;\">\n",
       "      <th></th>\n",
       "      <th>data_source</th>\n",
       "      <th>prompt</th>\n",
       "      <th>ability</th>\n",
       "      <th>reward_model</th>\n",
       "      <th>extra_info</th>\n",
       "    </tr>\n",
       "  </thead>\n",
       "  <tbody>\n",
       "    <tr>\n",
       "      <th>0</th>\n",
       "      <td>countdown</td>\n",
       "      <td>[{'content': 'Please reason and answer the fol...</td>\n",
       "      <td>math</td>\n",
       "      <td>{'ground_truth': {'numbers': [50, 77, 64, 67, ...</td>\n",
       "      <td>{'index': 0, 'level': '6', 'split': 'test'}</td>\n",
       "    </tr>\n",
       "    <tr>\n",
       "      <th>1</th>\n",
       "      <td>countdown</td>\n",
       "      <td>[{'content': 'Please reason and answer the fol...</td>\n",
       "      <td>math</td>\n",
       "      <td>{'ground_truth': {'numbers': [88, 84, 11, 71, ...</td>\n",
       "      <td>{'index': 1, 'level': '6', 'split': 'test'}</td>\n",
       "    </tr>\n",
       "    <tr>\n",
       "      <th>2</th>\n",
       "      <td>countdown</td>\n",
       "      <td>[{'content': 'Please reason and answer the fol...</td>\n",
       "      <td>math</td>\n",
       "      <td>{'ground_truth': {'numbers': [35, 48, 94, 46, ...</td>\n",
       "      <td>{'index': 2, 'level': '6', 'split': 'test'}</td>\n",
       "    </tr>\n",
       "    <tr>\n",
       "      <th>3</th>\n",
       "      <td>countdown</td>\n",
       "      <td>[{'content': 'Please reason and answer the fol...</td>\n",
       "      <td>math</td>\n",
       "      <td>{'ground_truth': {'numbers': [18, 58, 64, 42, ...</td>\n",
       "      <td>{'index': 3, 'level': '6', 'split': 'test'}</td>\n",
       "    </tr>\n",
       "    <tr>\n",
       "      <th>4</th>\n",
       "      <td>countdown</td>\n",
       "      <td>[{'content': 'Please reason and answer the fol...</td>\n",
       "      <td>math</td>\n",
       "      <td>{'ground_truth': {'numbers': [37, 18, 51, 39, ...</td>\n",
       "      <td>{'index': 4, 'level': '6', 'split': 'test'}</td>\n",
       "    </tr>\n",
       "    <tr>\n",
       "      <th>...</th>\n",
       "      <td>...</td>\n",
       "      <td>...</td>\n",
       "      <td>...</td>\n",
       "      <td>...</td>\n",
       "      <td>...</td>\n",
       "    </tr>\n",
       "    <tr>\n",
       "      <th>295</th>\n",
       "      <td>countdown</td>\n",
       "      <td>[{'content': 'Please reason and answer the fol...</td>\n",
       "      <td>math</td>\n",
       "      <td>{'ground_truth': {'numbers': [95, 38, 13, 72, ...</td>\n",
       "      <td>{'index': 295, 'level': '7', 'split': 'test'}</td>\n",
       "    </tr>\n",
       "    <tr>\n",
       "      <th>296</th>\n",
       "      <td>countdown</td>\n",
       "      <td>[{'content': 'Please reason and answer the fol...</td>\n",
       "      <td>math</td>\n",
       "      <td>{'ground_truth': {'numbers': [51, 100, 99, 91,...</td>\n",
       "      <td>{'index': 296, 'level': '7', 'split': 'test'}</td>\n",
       "    </tr>\n",
       "    <tr>\n",
       "      <th>297</th>\n",
       "      <td>countdown</td>\n",
       "      <td>[{'content': 'Please reason and answer the fol...</td>\n",
       "      <td>math</td>\n",
       "      <td>{'ground_truth': {'numbers': [44, 2, 3, 41, 85...</td>\n",
       "      <td>{'index': 297, 'level': '7', 'split': 'test'}</td>\n",
       "    </tr>\n",
       "    <tr>\n",
       "      <th>298</th>\n",
       "      <td>countdown</td>\n",
       "      <td>[{'content': 'Please reason and answer the fol...</td>\n",
       "      <td>math</td>\n",
       "      <td>{'ground_truth': {'numbers': [55, 20, 64, 3, 4...</td>\n",
       "      <td>{'index': 298, 'level': '7', 'split': 'test'}</td>\n",
       "    </tr>\n",
       "    <tr>\n",
       "      <th>299</th>\n",
       "      <td>countdown</td>\n",
       "      <td>[{'content': 'Please reason and answer the fol...</td>\n",
       "      <td>math</td>\n",
       "      <td>{'ground_truth': {'numbers': [1, 44, 24, 35, 5...</td>\n",
       "      <td>{'index': 299, 'level': '7', 'split': 'test'}</td>\n",
       "    </tr>\n",
       "  </tbody>\n",
       "</table>\n",
       "<p>300 rows × 5 columns</p>\n",
       "</div>"
      ],
      "text/plain": [
       "    data_source                                             prompt ability  \\\n",
       "0     countdown  [{'content': 'Please reason and answer the fol...    math   \n",
       "1     countdown  [{'content': 'Please reason and answer the fol...    math   \n",
       "2     countdown  [{'content': 'Please reason and answer the fol...    math   \n",
       "3     countdown  [{'content': 'Please reason and answer the fol...    math   \n",
       "4     countdown  [{'content': 'Please reason and answer the fol...    math   \n",
       "..          ...                                                ...     ...   \n",
       "295   countdown  [{'content': 'Please reason and answer the fol...    math   \n",
       "296   countdown  [{'content': 'Please reason and answer the fol...    math   \n",
       "297   countdown  [{'content': 'Please reason and answer the fol...    math   \n",
       "298   countdown  [{'content': 'Please reason and answer the fol...    math   \n",
       "299   countdown  [{'content': 'Please reason and answer the fol...    math   \n",
       "\n",
       "                                          reward_model  \\\n",
       "0    {'ground_truth': {'numbers': [50, 77, 64, 67, ...   \n",
       "1    {'ground_truth': {'numbers': [88, 84, 11, 71, ...   \n",
       "2    {'ground_truth': {'numbers': [35, 48, 94, 46, ...   \n",
       "3    {'ground_truth': {'numbers': [18, 58, 64, 42, ...   \n",
       "4    {'ground_truth': {'numbers': [37, 18, 51, 39, ...   \n",
       "..                                                 ...   \n",
       "295  {'ground_truth': {'numbers': [95, 38, 13, 72, ...   \n",
       "296  {'ground_truth': {'numbers': [51, 100, 99, 91,...   \n",
       "297  {'ground_truth': {'numbers': [44, 2, 3, 41, 85...   \n",
       "298  {'ground_truth': {'numbers': [55, 20, 64, 3, 4...   \n",
       "299  {'ground_truth': {'numbers': [1, 44, 24, 35, 5...   \n",
       "\n",
       "                                        extra_info  \n",
       "0      {'index': 0, 'level': '6', 'split': 'test'}  \n",
       "1      {'index': 1, 'level': '6', 'split': 'test'}  \n",
       "2      {'index': 2, 'level': '6', 'split': 'test'}  \n",
       "3      {'index': 3, 'level': '6', 'split': 'test'}  \n",
       "4      {'index': 4, 'level': '6', 'split': 'test'}  \n",
       "..                                             ...  \n",
       "295  {'index': 295, 'level': '7', 'split': 'test'}  \n",
       "296  {'index': 296, 'level': '7', 'split': 'test'}  \n",
       "297  {'index': 297, 'level': '7', 'split': 'test'}  \n",
       "298  {'index': 298, 'level': '7', 'split': 'test'}  \n",
       "299  {'index': 299, 'level': '7', 'split': 'test'}  \n",
       "\n",
       "[300 rows x 5 columns]"
      ]
     },
     "execution_count": 17,
     "metadata": {},
     "output_type": "execute_result"
    }
   ],
   "source": [
    "eval_df"
   ]
  },
  {
   "cell_type": "markdown",
   "id": "27e492ae",
   "metadata": {},
   "source": [
    "# Check generated sequences"
   ]
  },
  {
   "cell_type": "code",
   "execution_count": 8,
   "id": "1dfc171c",
   "metadata": {},
   "outputs": [],
   "source": [
    "path = \"./results/countdown_train_stage2_level5_100K/stage2_rl_gen_seq/Qwen2.5-3B-countdown-level4-5-stage1_rl.pickle\"\n",
    "df = pd.read_pickle(path)"
   ]
  },
  {
   "cell_type": "markdown",
   "id": "2ad05394",
   "metadata": {},
   "source": [
    "# Inject random thoughts"
   ]
  },
  {
   "cell_type": "code",
   "execution_count": 188,
   "id": "9a211ea3",
   "metadata": {},
   "outputs": [],
   "source": [
    "path = \"/mnt/home/al2644/research/projects/perturb-r/results/countdown_stage2_generate/random_thoughts/Qwen2.5-3B-countdown-level4-5-stage1_rl.pickle\"\n",
    "randomthoughts = pd.read_pickle(path)"
   ]
  },
  {
   "cell_type": "markdown",
   "id": "9dd0881f",
   "metadata": {},
   "source": [
    "## Data for training"
   ]
  },
  {
   "cell_type": "code",
   "execution_count": 180,
   "id": "c4eaf4f1",
   "metadata": {},
   "outputs": [],
   "source": [
    "path = \"../perturb-r/results/countdown_train_stage2_level5_100K/stage1_rft/Qwen2.5-3B-sft-countdown-level3-4-stage0.pickle\"\n",
    "df = pd.read_pickle(path)"
   ]
  }
 ],
 "metadata": {
  "kernelspec": {
   "display_name": "Python 3 (ipykernel)",
   "language": "python",
   "name": "python3"
  },
  "language_info": {
   "codemirror_mode": {
    "name": "ipython",
    "version": 3
   },
   "file_extension": ".py",
   "mimetype": "text/x-python",
   "name": "python",
   "nbconvert_exporter": "python",
   "pygments_lexer": "ipython3",
   "version": "3.10.18"
  }
 },
 "nbformat": 4,
 "nbformat_minor": 5
}
