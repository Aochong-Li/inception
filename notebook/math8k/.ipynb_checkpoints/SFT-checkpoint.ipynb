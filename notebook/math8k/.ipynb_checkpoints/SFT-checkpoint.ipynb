{
 "cells": [
  {
   "cell_type": "code",
   "execution_count": 1,
   "id": "51174fe6",
   "metadata": {},
   "outputs": [],
   "source": [
    "import random\n",
    "import pandas as pd\n",
    "from datasets import Dataset\n",
    "import os \n",
    "from transformers import AutoModelForCausalLM, AutoTokenizer, AutoConfig\n",
    "from datasets import load_dataset\n",
    "import seaborn as sns\n",
    "from datasets import load_dataset, load_from_disk\n",
    "import numpy as np\n",
    "import json"
   ]
  },
  {
   "cell_type": "code",
   "execution_count": 2,
   "id": "637cecaf",
   "metadata": {},
   "outputs": [
    {
     "data": {
      "text/plain": [
       "'/home/al2644/research/codebase/reasoning/perturb-r/notebook/math8k'"
      ]
     },
     "execution_count": 2,
     "metadata": {},
     "output_type": "execute_result"
    }
   ],
   "source": [
    "pwd"
   ]
  },
  {
   "cell_type": "code",
   "execution_count": 3,
   "id": "a8057ecb",
   "metadata": {},
   "outputs": [
    {
     "name": "stdout",
     "output_type": "stream",
     "text": [
      "/home/al2644/research/codebase/reasoning/perturb-r\n"
     ]
    }
   ],
   "source": [
    "cd /home/al2644/research/codebase/reasoning/perturb-r"
   ]
  },
  {
   "cell_type": "code",
   "execution_count": 24,
   "id": "d393290f",
   "metadata": {},
   "outputs": [],
   "source": [
    "dataset_name = \"GAIR/LIMO\"\n",
    "dataset = load_dataset(dataset_name)\n",
    "df = pd.DataFrame(dataset[\"train\"])"
   ]
  },
  {
   "cell_type": "code",
   "execution_count": 26,
   "id": "50203905",
   "metadata": {},
   "outputs": [
    {
     "name": "stderr",
     "output_type": "stream",
     "text": [
      "\n",
      "KeyboardInterrupt\n",
      "\n"
     ]
    }
   ],
   "source": [
    "tokenizer = AutoTokenizer.from_pretrained(\"Qwen/Qwen2.5-3B\")\n",
    "def count(response: str):\n",
    "    return len(tokenizer.encode(response))\n",
    "\n",
    "df['token_len'] = df[\"solution\"].apply(lambda x : count(x))"
   ]
  },
  {
   "cell_type": "code",
   "execution_count": 18,
   "id": "db43ab22",
   "metadata": {},
   "outputs": [
    {
     "data": {
      "text/html": [
       "<div>\n",
       "<style scoped>\n",
       "    .dataframe tbody tr th:only-of-type {\n",
       "        vertical-align: middle;\n",
       "    }\n",
       "\n",
       "    .dataframe tbody tr th {\n",
       "        vertical-align: top;\n",
       "    }\n",
       "\n",
       "    .dataframe thead th {\n",
       "        text-align: right;\n",
       "    }\n",
       "</style>\n",
       "<table border=\"1\" class=\"dataframe\">\n",
       "  <thead>\n",
       "    <tr style=\"text-align: right;\">\n",
       "      <th></th>\n",
       "      <th>question</th>\n",
       "      <th>solution</th>\n",
       "      <th>answer</th>\n",
       "      <th>token_len</th>\n",
       "    </tr>\n",
       "  </thead>\n",
       "  <tbody>\n",
       "    <tr>\n",
       "      <th>0</th>\n",
       "      <td>Find the last three digits of the product of t...</td>\n",
       "      <td>Okay, so I need to find the last three digits ...</td>\n",
       "      <td>25</td>\n",
       "      <td>2266</td>\n",
       "    </tr>\n",
       "    <tr>\n",
       "      <th>1</th>\n",
       "      <td>For how many pairs of consecutive integers in ...</td>\n",
       "      <td>Okay, so the problem is asking: How many pairs...</td>\n",
       "      <td>156</td>\n",
       "      <td>11628</td>\n",
       "    </tr>\n",
       "    <tr>\n",
       "      <th>2</th>\n",
       "      <td>Given a triangle, its midpoint triangle is obt...</td>\n",
       "      <td>Okay, let me try to understand this problem st...</td>\n",
       "      <td>101</td>\n",
       "      <td>8351</td>\n",
       "    </tr>\n",
       "    <tr>\n",
       "      <th>3</th>\n",
       "      <td>Set $A$ consists of $m$ consecutive integers w...</td>\n",
       "      <td>Okay, so I need to solve this problem where th...</td>\n",
       "      <td>201</td>\n",
       "      <td>1988</td>\n",
       "    </tr>\n",
       "    <tr>\n",
       "      <th>4</th>\n",
       "      <td>Let $S$ be the set of all positive rational nu...</td>\n",
       "      <td>Okay, so the problem is about finding all posi...</td>\n",
       "      <td>719</td>\n",
       "      <td>4287</td>\n",
       "    </tr>\n",
       "    <tr>\n",
       "      <th>...</th>\n",
       "      <td>...</td>\n",
       "      <td>...</td>\n",
       "      <td>...</td>\n",
       "      <td>...</td>\n",
       "    </tr>\n",
       "    <tr>\n",
       "      <th>812</th>\n",
       "      <td>The number $r$ can be expressed as a four-plac...</td>\n",
       "      <td>Okay, so I need to figure out this problem whe...</td>\n",
       "      <td>417</td>\n",
       "      <td>7469</td>\n",
       "    </tr>\n",
       "    <tr>\n",
       "      <th>813</th>\n",
       "      <td>Let $N = \\sum_{k = 1}^{1000} k ( \\lceil \\log_{...</td>\n",
       "      <td>Okay, so I need to find the remainder when N i...</td>\n",
       "      <td>477</td>\n",
       "      <td>2212</td>\n",
       "    </tr>\n",
       "    <tr>\n",
       "      <th>814</th>\n",
       "      <td>In trapezoid $ABCD$ , leg $\\overline{BC}$ is p...</td>\n",
       "      <td>Okay, so I have this trapezoid problem here. L...</td>\n",
       "      <td>110</td>\n",
       "      <td>3766</td>\n",
       "    </tr>\n",
       "    <tr>\n",
       "      <th>815</th>\n",
       "      <td>Let $x=\\frac{4}{(\\sqrt{5}+1)(\\sqrt[4]{5}+1)(\\s...</td>\n",
       "      <td>Alright, let's try to tackle this problem. The...</td>\n",
       "      <td>125</td>\n",
       "      <td>3952</td>\n",
       "    </tr>\n",
       "    <tr>\n",
       "      <th>816</th>\n",
       "      <td>Let $P(x) = x^2 - 3x - 9$ . A real number $x$ ...</td>\n",
       "      <td>Okay, so I've got this problem here that I nee...</td>\n",
       "      <td>850</td>\n",
       "      <td>3563</td>\n",
       "    </tr>\n",
       "  </tbody>\n",
       "</table>\n",
       "<p>772 rows × 4 columns</p>\n",
       "</div>"
      ],
      "text/plain": [
       "                                              question  \\\n",
       "0    Find the last three digits of the product of t...   \n",
       "1    For how many pairs of consecutive integers in ...   \n",
       "2    Given a triangle, its midpoint triangle is obt...   \n",
       "3    Set $A$ consists of $m$ consecutive integers w...   \n",
       "4    Let $S$ be the set of all positive rational nu...   \n",
       "..                                                 ...   \n",
       "812  The number $r$ can be expressed as a four-plac...   \n",
       "813  Let $N = \\sum_{k = 1}^{1000} k ( \\lceil \\log_{...   \n",
       "814  In trapezoid $ABCD$ , leg $\\overline{BC}$ is p...   \n",
       "815  Let $x=\\frac{4}{(\\sqrt{5}+1)(\\sqrt[4]{5}+1)(\\s...   \n",
       "816  Let $P(x) = x^2 - 3x - 9$ . A real number $x$ ...   \n",
       "\n",
       "                                              solution answer  token_len  \n",
       "0    Okay, so I need to find the last three digits ...     25       2266  \n",
       "1    Okay, so the problem is asking: How many pairs...    156      11628  \n",
       "2    Okay, let me try to understand this problem st...    101       8351  \n",
       "3    Okay, so I need to solve this problem where th...    201       1988  \n",
       "4    Okay, so the problem is about finding all posi...    719       4287  \n",
       "..                                                 ...    ...        ...  \n",
       "812  Okay, so I need to figure out this problem whe...    417       7469  \n",
       "813  Okay, so I need to find the remainder when N i...    477       2212  \n",
       "814  Okay, so I have this trapezoid problem here. L...    110       3766  \n",
       "815  Alright, let's try to tackle this problem. The...    125       3952  \n",
       "816  Okay, so I've got this problem here that I nee...    850       3563  \n",
       "\n",
       "[772 rows x 4 columns]"
      ]
     },
     "execution_count": 18,
     "metadata": {},
     "output_type": "execute_result"
    }
   ],
   "source": [
    "df[df[\"token_len\"] <= 16000]"
   ]
  }
 ],
 "metadata": {
  "kernelspec": {
   "display_name": "Python 3 (ipykernel)",
   "language": "python",
   "name": "python3"
  },
  "language_info": {
   "codemirror_mode": {
    "name": "ipython",
    "version": 3
   },
   "file_extension": ".py",
   "mimetype": "text/x-python",
   "name": "python",
   "nbconvert_exporter": "python",
   "pygments_lexer": "ipython3",
   "version": "3.10.16"
  }
 },
 "nbformat": 4,
 "nbformat_minor": 5
}
